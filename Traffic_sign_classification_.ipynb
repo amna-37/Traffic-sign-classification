{
  "nbformat": 4,
  "nbformat_minor": 0,
  "metadata": {
    "colab": {
      "name": "Traffic sign classification .ipynb",
      "provenance": [],
      "collapsed_sections": []
    },
    "kernelspec": {
      "name": "python3",
      "display_name": "Python 3"
    },
    "language_info": {
      "name": "python"
    }
  },
  "cells": [
    {
      "cell_type": "markdown",
      "source": [
        "# **Classification of Traffic signs using Visual bag of words**"
      ],
      "metadata": {
        "id": "ptr-OhynLShE"
      }
    },
    {
      "cell_type": "markdown",
      "source": [
        " Installing and Importing"
      ],
      "metadata": {
        "id": "GaAsgjIdhyMN"
      }
    },
    {
      "cell_type": "code",
      "source": [
        "#installing textable\n",
        "!pip install texttable\n",
        "#importing libraries\n",
        "import csv\n",
        "import os\n",
        "import pandas as pd\n",
        "from numpy import genfromtxt\n",
        "import cv2\n",
        "from google.colab.patches import cv2_imshow\n",
        "import numpy as np\n",
        "from scipy import stats\n",
        "import matplotlib.pyplot as plt\n",
        "from scipy.cluster.vq import kmeans,vq\n",
        "from sklearn.preprocessing import StandardScaler\n",
        "from sklearn.svm import LinearSVC\n",
        "from scipy.cluster.vq import vq\n",
        "from texttable import Texttable"
      ],
      "metadata": {
        "id": "v8zJXbBBKrNe",
        "colab": {
          "base_uri": "https://localhost:8080/"
        },
        "outputId": "8c9f700c-5150-4658-add5-57f93c2fe1f2"
      },
      "execution_count": 1,
      "outputs": [
        {
          "output_type": "stream",
          "name": "stdout",
          "text": [
            "Collecting texttable\n",
            "  Downloading texttable-1.6.4-py2.py3-none-any.whl (10 kB)\n",
            "Installing collected packages: texttable\n",
            "Successfully installed texttable-1.6.4\n"
          ]
        }
      ]
    },
    {
      "cell_type": "markdown",
      "source": [
        "Unziping CS893 Sp2022 A1 Dataset.zip"
      ],
      "metadata": {
        "id": "PDMZOeQeLnvY"
      }
    },
    {
      "cell_type": "code",
      "source": [
        "!unzip /content/'CS893 Sp2022 A1 Dataset.zip' -d /content/dataset"
      ],
      "metadata": {
        "colab": {
          "base_uri": "https://localhost:8080/"
        },
        "id": "IO-ITBbl001i",
        "outputId": "dd7bf9d6-65af-435a-d201-3dbb4ae95f1e"
      },
      "execution_count": 2,
      "outputs": [
        {
          "output_type": "stream",
          "name": "stdout",
          "text": [
            "Archive:  /content/CS893 Sp2022 A1 Dataset.zip\n",
            "   creating: /content/dataset/00001/\n",
            "  inflating: /content/dataset/00001/00025_00000.ppm  \n",
            "  inflating: /content/dataset/00001/00025_00001.ppm  \n",
            "  inflating: /content/dataset/00001/00025_00002.ppm  \n",
            "  inflating: /content/dataset/00001/00029_00000.ppm  \n",
            "  inflating: /content/dataset/00001/00029_00001.ppm  \n",
            "  inflating: /content/dataset/00001/00029_00002.ppm  \n",
            "  inflating: /content/dataset/00001/00079_00000.ppm  \n",
            "  inflating: /content/dataset/00001/00079_00001.ppm  \n",
            "  inflating: /content/dataset/00001/00079_00002.ppm  \n",
            "  inflating: /content/dataset/00001/00136_00000.ppm  \n",
            "  inflating: /content/dataset/00001/00136_00001.ppm  \n",
            "  inflating: /content/dataset/00001/00136_00002.ppm  \n",
            "  inflating: /content/dataset/00001/00143_00000.ppm  \n",
            "  inflating: /content/dataset/00001/00143_00001.ppm  \n",
            "  inflating: /content/dataset/00001/00143_00002.ppm  \n",
            "  inflating: /content/dataset/00001/00455_00000.ppm  \n",
            "  inflating: /content/dataset/00001/00455_00001.ppm  \n",
            "  inflating: /content/dataset/00001/00455_00002.ppm  \n",
            "  inflating: /content/dataset/00001/00468_00000.ppm  \n",
            "  inflating: /content/dataset/00001/00468_00001.ppm  \n",
            "  inflating: /content/dataset/00001/00468_00002.ppm  \n",
            "  inflating: /content/dataset/00001/00475_00000.ppm  \n",
            "  inflating: /content/dataset/00001/00475_00001.ppm  \n",
            "  inflating: /content/dataset/00001/00475_00002.ppm  \n",
            "  inflating: /content/dataset/00001/00801_00000.ppm  \n",
            "  inflating: /content/dataset/00001/00801_00001.ppm  \n",
            "  inflating: /content/dataset/00001/00801_00002.ppm  \n",
            "  inflating: /content/dataset/00001/00806_00000.ppm  \n",
            "  inflating: /content/dataset/00001/00806_00001.ppm  \n",
            "  inflating: /content/dataset/00001/00806_00002.ppm  \n",
            "  inflating: /content/dataset/00001/00874_00000.ppm  \n",
            "  inflating: /content/dataset/00001/00874_00001.ppm  \n",
            "  inflating: /content/dataset/00001/00874_00002.ppm  \n",
            "  inflating: /content/dataset/00001/00876_00000.ppm  \n",
            "  inflating: /content/dataset/00001/00876_00001.ppm  \n",
            "  inflating: /content/dataset/00001/00876_00002.ppm  \n",
            "  inflating: /content/dataset/00001/00877_00000.ppm  \n",
            "  inflating: /content/dataset/00001/00877_00001.ppm  \n",
            "  inflating: /content/dataset/00001/00877_00002.ppm  \n",
            "  inflating: /content/dataset/00001/00881_00000.ppm  \n",
            "  inflating: /content/dataset/00001/00881_00001.ppm  \n",
            "  inflating: /content/dataset/00001/00881_00002.ppm  \n",
            "  inflating: /content/dataset/00001/00897_00000.ppm  \n",
            "  inflating: /content/dataset/00001/00897_00001.ppm  \n",
            "  inflating: /content/dataset/00001/00897_00002.ppm  \n",
            "  inflating: /content/dataset/00001/00900_00000.ppm  \n",
            "  inflating: /content/dataset/00001/00900_00001.ppm  \n",
            "  inflating: /content/dataset/00001/00900_00002.ppm  \n",
            "  inflating: /content/dataset/00001/00920_00000.ppm  \n",
            "  inflating: /content/dataset/00001/00920_00001.ppm  \n",
            "  inflating: /content/dataset/00001/00920_00002.ppm  \n",
            "  inflating: /content/dataset/00001/00921_00000.ppm  \n",
            "  inflating: /content/dataset/00001/00921_00001.ppm  \n",
            "  inflating: /content/dataset/00001/00933_00000.ppm  \n",
            "  inflating: /content/dataset/00001/00933_00001.ppm  \n",
            "  inflating: /content/dataset/00001/00933_00002.ppm  \n",
            "  inflating: /content/dataset/00001/00941_00000.ppm  \n",
            "  inflating: /content/dataset/00001/00941_00001.ppm  \n",
            "  inflating: /content/dataset/00001/00941_00002.ppm  \n",
            "  inflating: /content/dataset/00001/00947_00000.ppm  \n",
            "  inflating: /content/dataset/00001/00947_00001.ppm  \n",
            "  inflating: /content/dataset/00001/00947_00002.ppm  \n",
            "  inflating: /content/dataset/00001/00965_00000.ppm  \n",
            "  inflating: /content/dataset/00001/00965_00001.ppm  \n",
            "  inflating: /content/dataset/00001/00965_00002.ppm  \n",
            "  inflating: /content/dataset/00001/01028_00000.ppm  \n",
            "  inflating: /content/dataset/00001/01028_00001.ppm  \n",
            "  inflating: /content/dataset/00001/01028_00002.ppm  \n",
            "  inflating: /content/dataset/00001/01103_00000.ppm  \n",
            "  inflating: /content/dataset/00001/01103_00001.ppm  \n",
            "  inflating: /content/dataset/00001/01103_00002.ppm  \n",
            "  inflating: /content/dataset/00001/01114_00000.ppm  \n",
            "  inflating: /content/dataset/00001/01114_00001.ppm  \n",
            "  inflating: /content/dataset/00001/01114_00002.ppm  \n",
            "  inflating: /content/dataset/00001/01278_00000.ppm  \n",
            "  inflating: /content/dataset/00001/01278_00001.ppm  \n",
            "  inflating: /content/dataset/00001/01278_00002.ppm  \n",
            "  inflating: /content/dataset/00001/01556_00000.ppm  \n",
            "  inflating: /content/dataset/00001/01556_00001.ppm  \n",
            "  inflating: /content/dataset/00001/01556_00002.ppm  \n",
            "  inflating: /content/dataset/00001/01584_00000.ppm  \n",
            "  inflating: /content/dataset/00001/01584_00001.ppm  \n",
            "  inflating: /content/dataset/00001/01584_00002.ppm  \n",
            "  inflating: /content/dataset/00001/01585_00000.ppm  \n",
            "  inflating: /content/dataset/00001/01585_00001.ppm  \n",
            "  inflating: /content/dataset/00001/01585_00002.ppm  \n",
            "  inflating: /content/dataset/00001/01590_00000.ppm  \n",
            "  inflating: /content/dataset/00001/01590_00001.ppm  \n",
            "  inflating: /content/dataset/00001/01590_00002.ppm  \n",
            "  inflating: /content/dataset/00001/01651_00000.ppm  \n",
            "  inflating: /content/dataset/00001/01651_00001.ppm  \n",
            "  inflating: /content/dataset/00001/01651_00002.ppm  \n",
            "  inflating: /content/dataset/00001/01662_00000.ppm  \n",
            "  inflating: /content/dataset/00001/01662_00001.ppm  \n",
            "  inflating: /content/dataset/00001/01662_00002.ppm  \n",
            "  inflating: /content/dataset/00001/01681_00000.ppm  \n",
            "  inflating: /content/dataset/00001/01681_00001.ppm  \n",
            "  inflating: /content/dataset/00001/01681_00002.ppm  \n",
            "  inflating: /content/dataset/00001/01699_00000.ppm  \n",
            "  inflating: /content/dataset/00001/01699_00001.ppm  \n",
            "  inflating: /content/dataset/00001/test.txt  \n",
            "  inflating: /content/dataset/00001/train.txt  \n",
            "   creating: /content/dataset/00002/\n",
            "  inflating: /content/dataset/00002/00001_00000.ppm  \n",
            "  inflating: /content/dataset/00002/00001_00001.ppm  \n",
            "  inflating: /content/dataset/00002/00001_00002.ppm  \n",
            "  inflating: /content/dataset/00002/00018_00000.ppm  \n",
            "  inflating: /content/dataset/00002/00018_00001.ppm  \n",
            "  inflating: /content/dataset/00002/00018_00002.ppm  \n",
            "  inflating: /content/dataset/00002/00028_00000.ppm  \n",
            "  inflating: /content/dataset/00002/00028_00001.ppm  \n",
            "  inflating: /content/dataset/00002/00028_00002.ppm  \n",
            "  inflating: /content/dataset/00002/00192_00000.ppm  \n",
            "  inflating: /content/dataset/00002/00192_00001.ppm  \n",
            "  inflating: /content/dataset/00002/00192_00002.ppm  \n",
            "  inflating: /content/dataset/00002/00927_00000.ppm  \n",
            "  inflating: /content/dataset/00002/00927_00001.ppm  \n",
            "  inflating: /content/dataset/00002/00927_00002.ppm  \n",
            "  inflating: /content/dataset/00002/00928_00000.ppm  \n",
            "  inflating: /content/dataset/00002/00928_00001.ppm  \n",
            "  inflating: /content/dataset/00002/00928_00002.ppm  \n",
            "  inflating: /content/dataset/00002/00930_00000.ppm  \n",
            "  inflating: /content/dataset/00002/00930_00001.ppm  \n",
            "  inflating: /content/dataset/00002/00931_00001.ppm  \n",
            "  inflating: /content/dataset/00002/00937_00001.ppm  \n",
            "  inflating: /content/dataset/00002/00937_00002.ppm  \n",
            "  inflating: /content/dataset/00002/00937_00003.ppm  \n",
            "  inflating: /content/dataset/00002/00938_00000.ppm  \n",
            "  inflating: /content/dataset/00002/00943_00001.ppm  \n",
            "  inflating: /content/dataset/00002/00945_00000.ppm  \n",
            "  inflating: /content/dataset/00002/00945_00001.ppm  \n",
            "  inflating: /content/dataset/00002/00945_00002.ppm  \n",
            "  inflating: /content/dataset/00002/00957_00002.ppm  \n",
            "  inflating: /content/dataset/00002/00959_00000.ppm  \n",
            "  inflating: /content/dataset/00002/00959_00001.ppm  \n",
            "  inflating: /content/dataset/00002/00959_00002.ppm  \n",
            "  inflating: /content/dataset/00002/01002_00002.ppm  \n",
            "  inflating: /content/dataset/00002/01003_00000.ppm  \n",
            "  inflating: /content/dataset/00002/01003_00001.ppm  \n",
            "  inflating: /content/dataset/00002/01003_00002.ppm  \n",
            "  inflating: /content/dataset/00002/01013_00000.ppm  \n",
            "  inflating: /content/dataset/00002/01013_00001.ppm  \n",
            "  inflating: /content/dataset/00002/01013_00002.ppm  \n",
            "  inflating: /content/dataset/00002/01102_00002.ppm  \n",
            "  inflating: /content/dataset/00002/01108_00000.ppm  \n",
            "  inflating: /content/dataset/00002/01108_00001.ppm  \n",
            "  inflating: /content/dataset/00002/01108_00002.ppm  \n",
            "  inflating: /content/dataset/00002/01109_00002.ppm  \n",
            "  inflating: /content/dataset/00002/01111_00000.ppm  \n",
            "  inflating: /content/dataset/00002/01111_00001.ppm  \n",
            "  inflating: /content/dataset/00002/01112_00000.ppm  \n",
            "  inflating: /content/dataset/00002/01232_00002.ppm  \n",
            "  inflating: /content/dataset/00002/01237_00000.ppm  \n",
            "  inflating: /content/dataset/00002/01237_00001.ppm  \n",
            "  inflating: /content/dataset/00002/01237_00002.ppm  \n",
            "  inflating: /content/dataset/00002/01238_00002.ppm  \n",
            "  inflating: /content/dataset/00002/01243_00000.ppm  \n",
            "  inflating: /content/dataset/00002/01243_00001.ppm  \n",
            "  inflating: /content/dataset/00002/01243_00002.ppm  \n",
            "  inflating: /content/dataset/00002/01244_00002.ppm  \n",
            "  inflating: /content/dataset/00002/01248_00000.ppm  \n",
            "  inflating: /content/dataset/00002/01248_00001.ppm  \n",
            "  inflating: /content/dataset/00002/01248_00002.ppm  \n",
            "  inflating: /content/dataset/00002/01249_00002.ppm  \n",
            "  inflating: /content/dataset/00002/01253_00000.ppm  \n",
            "  inflating: /content/dataset/00002/01253_00001.ppm  \n",
            "  inflating: /content/dataset/00002/01253_00002.ppm  \n",
            "  inflating: /content/dataset/00002/01254_00001.ppm  \n",
            "  inflating: /content/dataset/00002/01254_00002.ppm  \n",
            "  inflating: /content/dataset/00002/01262_00000.ppm  \n",
            "  inflating: /content/dataset/00002/01262_00001.ppm  \n",
            "  inflating: /content/dataset/00002/01263_00001.ppm  \n",
            "  inflating: /content/dataset/00002/01263_00002.ppm  \n",
            "  inflating: /content/dataset/00002/01269_00000.ppm  \n",
            "  inflating: /content/dataset/00002/01269_00001.ppm  \n",
            "  inflating: /content/dataset/00002/01275_00000.ppm  \n",
            "  inflating: /content/dataset/00002/01275_00001.ppm  \n",
            "  inflating: /content/dataset/00002/01275_00002.ppm  \n",
            "  inflating: /content/dataset/00002/01276_00000.ppm  \n",
            "  inflating: /content/dataset/00002/01502_00002.ppm  \n",
            "  inflating: /content/dataset/00002/01504_00000.ppm  \n",
            "  inflating: /content/dataset/00002/01511_00002.ppm  \n",
            "  inflating: /content/dataset/00002/01514_00000.ppm  \n",
            "  inflating: /content/dataset/00002/01519_00002.ppm  \n",
            "  inflating: /content/dataset/00002/01524_00001.ppm  \n",
            "  inflating: /content/dataset/00002/01525_00002.ppm  \n",
            "  inflating: /content/dataset/00002/01526_00000.ppm  \n",
            "  inflating: /content/dataset/00002/01528_00002.ppm  \n",
            "  inflating: /content/dataset/00002/01536_00000.ppm  \n",
            "  inflating: /content/dataset/00002/01536_00001.ppm  \n",
            "  inflating: /content/dataset/00002/01536_00002.ppm  \n",
            "  inflating: /content/dataset/00002/01588_00001.ppm  \n",
            "  inflating: /content/dataset/00002/01588_00002.ppm  \n",
            "  inflating: /content/dataset/00002/01713_00001.ppm  \n",
            "  inflating: /content/dataset/00002/01915_00000.ppm  \n",
            "  inflating: /content/dataset/00002/01915_00001.ppm  \n",
            "  inflating: /content/dataset/00002/01915_00002.ppm  \n",
            "  inflating: /content/dataset/00002/01916_00000.ppm  \n",
            "  inflating: /content/dataset/00002/01955_00002.ppm  \n",
            "  inflating: /content/dataset/00002/01956_00000.ppm  \n",
            "  inflating: /content/dataset/00002/01958_00000.ppm  \n",
            "  inflating: /content/dataset/00002/01958_00001.ppm  \n",
            "  inflating: /content/dataset/00002/01958_00002.ppm  \n",
            "  inflating: /content/dataset/00002/test.txt  \n",
            "  inflating: /content/dataset/00002/train.txt  \n",
            "   creating: /content/dataset/00003/\n",
            "  inflating: /content/dataset/00003/00173_00000.ppm  \n",
            "  inflating: /content/dataset/00003/00173_00001.ppm  \n",
            "  inflating: /content/dataset/00003/00173_00002.ppm  \n",
            "  inflating: /content/dataset/00003/00224_00000.ppm  \n",
            "  inflating: /content/dataset/00003/00224_00001.ppm  \n",
            "  inflating: /content/dataset/00003/00224_00002.ppm  \n",
            "  inflating: /content/dataset/00003/00361_00000.ppm  \n",
            "  inflating: /content/dataset/00003/00361_00001.ppm  \n",
            "  inflating: /content/dataset/00003/00361_00002.ppm  \n",
            "  inflating: /content/dataset/00003/00372_00000.ppm  \n",
            "  inflating: /content/dataset/00003/00372_00001.ppm  \n",
            "  inflating: /content/dataset/00003/00372_00002.ppm  \n",
            "  inflating: /content/dataset/00003/00377_00000.ppm  \n",
            "  inflating: /content/dataset/00003/00421_00000.ppm  \n",
            "  inflating: /content/dataset/00003/00421_00001.ppm  \n",
            "  inflating: /content/dataset/00003/00421_00002.ppm  \n",
            "  inflating: /content/dataset/00003/00549_00000.ppm  \n",
            "  inflating: /content/dataset/00003/00549_00001.ppm  \n",
            "  inflating: /content/dataset/00003/00549_00002.ppm  \n",
            "  inflating: /content/dataset/00003/00553_00000.ppm  \n",
            "  inflating: /content/dataset/00003/00553_00001.ppm  \n",
            "  inflating: /content/dataset/00003/00553_00002.ppm  \n",
            "  inflating: /content/dataset/00003/00559_00000.ppm  \n",
            "  inflating: /content/dataset/00003/00559_00001.ppm  \n",
            "  inflating: /content/dataset/00003/00559_00002.ppm  \n",
            "  inflating: /content/dataset/00003/00569_00000.ppm  \n",
            "  inflating: /content/dataset/00003/00569_00001.ppm  \n",
            "  inflating: /content/dataset/00003/00569_00002.ppm  \n",
            "  inflating: /content/dataset/00003/00578_00000.ppm  \n",
            "  inflating: /content/dataset/00003/00578_00001.ppm  \n",
            "  inflating: /content/dataset/00003/00578_00002.ppm  \n",
            "  inflating: /content/dataset/00003/00619_00000.ppm  \n",
            "  inflating: /content/dataset/00003/00619_00001.ppm  \n",
            "  inflating: /content/dataset/00003/00619_00002.ppm  \n",
            "  inflating: /content/dataset/00003/00653_00000.ppm  \n",
            "  inflating: /content/dataset/00003/00653_00001.ppm  \n",
            "  inflating: /content/dataset/00003/00653_00002.ppm  \n",
            "  inflating: /content/dataset/00003/00758_00000.ppm  \n",
            "  inflating: /content/dataset/00003/00758_00001.ppm  \n",
            "  inflating: /content/dataset/00003/00758_00002.ppm  \n",
            "  inflating: /content/dataset/00003/00762_00000.ppm  \n",
            "  inflating: /content/dataset/00003/00762_00001.ppm  \n",
            "  inflating: /content/dataset/00003/00762_00002.ppm  \n",
            "  inflating: /content/dataset/00003/01529_00000.ppm  \n",
            "  inflating: /content/dataset/00003/01529_00001.ppm  \n",
            "  inflating: /content/dataset/00003/01529_00002.ppm  \n",
            "  inflating: /content/dataset/00003/01744_00000.ppm  \n",
            "  inflating: /content/dataset/00003/01763_00000.ppm  \n",
            "  inflating: /content/dataset/00003/01763_00001.ppm  \n",
            "  inflating: /content/dataset/00003/01763_00002.ppm  \n",
            "  inflating: /content/dataset/00003/01764_00000.ppm  \n",
            "  inflating: /content/dataset/00003/01764_00001.ppm  \n",
            "  inflating: /content/dataset/00003/01764_00002.ppm  \n",
            "  inflating: /content/dataset/00003/01773_00000.ppm  \n",
            "  inflating: /content/dataset/00003/01773_00001.ppm  \n",
            "  inflating: /content/dataset/00003/01773_00002.ppm  \n",
            "  inflating: /content/dataset/00003/01775_00000.ppm  \n",
            "  inflating: /content/dataset/00003/01775_00001.ppm  \n",
            "  inflating: /content/dataset/00003/01775_00002.ppm  \n",
            "  inflating: /content/dataset/00003/01807_00000.ppm  \n",
            "  inflating: /content/dataset/00003/01807_00001.ppm  \n",
            "  inflating: /content/dataset/00003/01807_00002.ppm  \n",
            "  inflating: /content/dataset/00003/01815_00000.ppm  \n",
            "  inflating: /content/dataset/00003/01815_00001.ppm  \n",
            "  inflating: /content/dataset/00003/01815_00002.ppm  \n",
            "  inflating: /content/dataset/00003/01816_00000.ppm  \n",
            "  inflating: /content/dataset/00003/01816_00001.ppm  \n",
            "  inflating: /content/dataset/00003/01816_00002.ppm  \n",
            "  inflating: /content/dataset/00003/01817_00000.ppm  \n",
            "  inflating: /content/dataset/00003/01817_00001.ppm  \n",
            "  inflating: /content/dataset/00003/01817_00002.ppm  \n",
            "  inflating: /content/dataset/00003/01818_00000.ppm  \n",
            "  inflating: /content/dataset/00003/01818_00001.ppm  \n",
            "  inflating: /content/dataset/00003/01818_00002.ppm  \n",
            "  inflating: /content/dataset/00003/01820_00000.ppm  \n",
            "  inflating: /content/dataset/00003/01820_00001.ppm  \n",
            "  inflating: /content/dataset/00003/01820_00002.ppm  \n",
            "  inflating: /content/dataset/00003/01823_00000.ppm  \n",
            "  inflating: /content/dataset/00003/01823_00001.ppm  \n",
            "  inflating: /content/dataset/00003/01823_00002.ppm  \n",
            "  inflating: /content/dataset/00003/01824_00000.ppm  \n",
            "  inflating: /content/dataset/00003/01824_00001.ppm  \n",
            "  inflating: /content/dataset/00003/01828_00000.ppm  \n",
            "  inflating: /content/dataset/00003/01828_00001.ppm  \n",
            "  inflating: /content/dataset/00003/01828_00002.ppm  \n",
            "  inflating: /content/dataset/00003/01846_00000.ppm  \n",
            "  inflating: /content/dataset/00003/01846_00001.ppm  \n",
            "  inflating: /content/dataset/00003/01846_00002.ppm  \n",
            "  inflating: /content/dataset/00003/01847_00000.ppm  \n",
            "  inflating: /content/dataset/00003/01847_00001.ppm  \n",
            "  inflating: /content/dataset/00003/01847_00002.ppm  \n",
            "  inflating: /content/dataset/00003/01848_00000.ppm  \n",
            "  inflating: /content/dataset/00003/01848_00001.ppm  \n",
            "  inflating: /content/dataset/00003/01848_00002.ppm  \n",
            "  inflating: /content/dataset/00003/01849_00000.ppm  \n",
            "  inflating: /content/dataset/00003/01849_00001.ppm  \n",
            "  inflating: /content/dataset/00003/01849_00002.ppm  \n",
            "  inflating: /content/dataset/00003/01852_00000.ppm  \n",
            "  inflating: /content/dataset/00003/01852_00001.ppm  \n",
            "  inflating: /content/dataset/00003/01852_00002.ppm  \n",
            "  inflating: /content/dataset/00003/test.txt  \n",
            "  inflating: /content/dataset/00003/train.txt  \n",
            "   creating: /content/dataset/00004/\n",
            "  inflating: /content/dataset/00004/00132_00000.ppm  \n",
            "  inflating: /content/dataset/00004/00132_00001.ppm  \n",
            "  inflating: /content/dataset/00004/00132_00002.ppm  \n",
            "  inflating: /content/dataset/00004/00295_00000.ppm  \n",
            "  inflating: /content/dataset/00004/00305_00000.ppm  \n",
            "  inflating: /content/dataset/00004/00305_00001.ppm  \n",
            "  inflating: /content/dataset/00004/00305_00002.ppm  \n",
            "  inflating: /content/dataset/00004/00689_00000.ppm  \n",
            "  inflating: /content/dataset/00004/00689_00001.ppm  \n",
            "  inflating: /content/dataset/00004/00689_00002.ppm  \n",
            "  inflating: /content/dataset/00004/00689_00003.ppm  \n",
            "  inflating: /content/dataset/00004/00719_00000.ppm  \n",
            "  inflating: /content/dataset/00004/00719_00001.ppm  \n",
            "  inflating: /content/dataset/00004/00719_00002.ppm  \n",
            "  inflating: /content/dataset/00004/00736_00000.ppm  \n",
            "  inflating: /content/dataset/00004/00736_00001.ppm  \n",
            "  inflating: /content/dataset/00004/00736_00002.ppm  \n",
            "  inflating: /content/dataset/00004/00769_00000.ppm  \n",
            "  inflating: /content/dataset/00004/00769_00001.ppm  \n",
            "  inflating: /content/dataset/00004/00769_00002.ppm  \n",
            "  inflating: /content/dataset/00004/00770_00000.ppm  \n",
            "  inflating: /content/dataset/00004/00770_00001.ppm  \n",
            "  inflating: /content/dataset/00004/00770_00002.ppm  \n",
            "  inflating: /content/dataset/00004/00781_00000.ppm  \n",
            "  inflating: /content/dataset/00004/00781_00001.ppm  \n",
            "  inflating: /content/dataset/00004/00781_00002.ppm  \n",
            "  inflating: /content/dataset/00004/00987_00000.ppm  \n",
            "  inflating: /content/dataset/00004/00987_00001.ppm  \n",
            "  inflating: /content/dataset/00004/01017_00000.ppm  \n",
            "  inflating: /content/dataset/00004/01017_00001.ppm  \n",
            "  inflating: /content/dataset/00004/01017_00002.ppm  \n",
            "  inflating: /content/dataset/00004/01061_00000.ppm  \n",
            "  inflating: /content/dataset/00004/01061_00002.ppm  \n",
            "  inflating: /content/dataset/00004/01061_00003.ppm  \n",
            "  inflating: /content/dataset/00004/01062_00000.ppm  \n",
            "  inflating: /content/dataset/00004/01062_00001.ppm  \n",
            "  inflating: /content/dataset/00004/01062_00002.ppm  \n",
            "  inflating: /content/dataset/00004/01077_00000.ppm  \n",
            "  inflating: /content/dataset/00004/01077_00001.ppm  \n",
            "  inflating: /content/dataset/00004/01077_00002.ppm  \n",
            "  inflating: /content/dataset/00004/01081_00000.ppm  \n",
            "  inflating: /content/dataset/00004/01081_00001.ppm  \n",
            "  inflating: /content/dataset/00004/01081_00002.ppm  \n",
            "  inflating: /content/dataset/00004/01138_00000.ppm  \n",
            "  inflating: /content/dataset/00004/01138_00001.ppm  \n",
            "  inflating: /content/dataset/00004/01138_00002.ppm  \n",
            "  inflating: /content/dataset/00004/01139_00002.ppm  \n",
            "  inflating: /content/dataset/00004/01152_00000.ppm  \n",
            "  inflating: /content/dataset/00004/01152_00001.ppm  \n",
            "  inflating: /content/dataset/00004/01152_00002.ppm  \n",
            "  inflating: /content/dataset/00004/01159_00000.ppm  \n",
            "  inflating: /content/dataset/00004/01159_00001.ppm  \n",
            "  inflating: /content/dataset/00004/01159_00002.ppm  \n",
            "  inflating: /content/dataset/00004/01186_00000.ppm  \n",
            "  inflating: /content/dataset/00004/01186_00001.ppm  \n",
            "  inflating: /content/dataset/00004/01186_00002.ppm  \n",
            "  inflating: /content/dataset/00004/01189_00000.ppm  \n",
            "  inflating: /content/dataset/00004/01189_00001.ppm  \n",
            "  inflating: /content/dataset/00004/01189_00002.ppm  \n",
            "  inflating: /content/dataset/00004/01195_00000.ppm  \n",
            "  inflating: /content/dataset/00004/01195_00001.ppm  \n",
            "  inflating: /content/dataset/00004/01195_00002.ppm  \n",
            "  inflating: /content/dataset/00004/01393_00000.ppm  \n",
            "  inflating: /content/dataset/00004/01393_00001.ppm  \n",
            "  inflating: /content/dataset/00004/01406_00000.ppm  \n",
            "  inflating: /content/dataset/00004/01406_00001.ppm  \n",
            "  inflating: /content/dataset/00004/01406_00002.ppm  \n",
            "  inflating: /content/dataset/00004/01423_00000.ppm  \n",
            "  inflating: /content/dataset/00004/01423_00001.ppm  \n",
            "  inflating: /content/dataset/00004/01426_00000.ppm  \n",
            "  inflating: /content/dataset/00004/01426_00001.ppm  \n",
            "  inflating: /content/dataset/00004/01433_00000.ppm  \n",
            "  inflating: /content/dataset/00004/01433_00001.ppm  \n",
            "  inflating: /content/dataset/00004/01433_00002.ppm  \n",
            "  inflating: /content/dataset/00004/01485_00002.ppm  \n",
            "  inflating: /content/dataset/00004/01531_00000.ppm  \n",
            "  inflating: /content/dataset/00004/01531_00001.ppm  \n",
            "  inflating: /content/dataset/00004/01531_00002.ppm  \n",
            "  inflating: /content/dataset/00004/01598_00000.ppm  \n",
            "  inflating: /content/dataset/00004/01598_00001.ppm  \n",
            "  inflating: /content/dataset/00004/01598_00002.ppm  \n",
            "  inflating: /content/dataset/00004/01605_00000.ppm  \n",
            "  inflating: /content/dataset/00004/01605_00001.ppm  \n",
            "  inflating: /content/dataset/00004/01653_00000.ppm  \n",
            "  inflating: /content/dataset/00004/01653_00001.ppm  \n",
            "  inflating: /content/dataset/00004/01653_00002.ppm  \n",
            "  inflating: /content/dataset/00004/01700_00000.ppm  \n",
            "  inflating: /content/dataset/00004/01700_00001.ppm  \n",
            "  inflating: /content/dataset/00004/01782_00000.ppm  \n",
            "  inflating: /content/dataset/00004/01782_00001.ppm  \n",
            "  inflating: /content/dataset/00004/01782_00002.ppm  \n",
            "  inflating: /content/dataset/00004/01794_00000.ppm  \n",
            "  inflating: /content/dataset/00004/01794_00001.ppm  \n",
            "  inflating: /content/dataset/00004/01794_00002.ppm  \n",
            "  inflating: /content/dataset/00004/01801_00000.ppm  \n",
            "  inflating: /content/dataset/00004/01801_00001.ppm  \n",
            "  inflating: /content/dataset/00004/01801_00002.ppm  \n",
            "  inflating: /content/dataset/00004/01880_00000.ppm  \n",
            "  inflating: /content/dataset/00004/01880_00001.ppm  \n",
            "  inflating: /content/dataset/00004/01880_00002.ppm  \n",
            "  inflating: /content/dataset/00004/test.txt  \n",
            "  inflating: /content/dataset/00004/train.txt  \n",
            "   creating: /content/dataset/00005/\n",
            "  inflating: /content/dataset/00005/00020_00000.ppm  \n",
            "  inflating: /content/dataset/00005/00020_00001.ppm  \n",
            "  inflating: /content/dataset/00005/00020_00002.ppm  \n",
            "  inflating: /content/dataset/00005/00048_00000.ppm  \n",
            "  inflating: /content/dataset/00005/00048_00001.ppm  \n",
            "  inflating: /content/dataset/00005/00048_00002.ppm  \n",
            "  inflating: /content/dataset/00005/00053_00000.ppm  \n",
            "  inflating: /content/dataset/00005/00053_00001.ppm  \n",
            "  inflating: /content/dataset/00005/00053_00002.ppm  \n",
            "  inflating: /content/dataset/00005/00112_00000.ppm  \n",
            "  inflating: /content/dataset/00005/00112_00001.ppm  \n",
            "  inflating: /content/dataset/00005/00112_00002.ppm  \n",
            "  inflating: /content/dataset/00005/00362_00000.ppm  \n",
            "  inflating: /content/dataset/00005/00362_00001.ppm  \n",
            "  inflating: /content/dataset/00005/00362_00002.ppm  \n",
            "  inflating: /content/dataset/00005/00363_00000.ppm  \n",
            "  inflating: /content/dataset/00005/00363_00001.ppm  \n",
            "  inflating: /content/dataset/00005/00363_00002.ppm  \n",
            "  inflating: /content/dataset/00005/00560_00000.ppm  \n",
            "  inflating: /content/dataset/00005/00560_00001.ppm  \n",
            "  inflating: /content/dataset/00005/00560_00002.ppm  \n",
            "  inflating: /content/dataset/00005/00570_00000.ppm  \n",
            "  inflating: /content/dataset/00005/00570_00001.ppm  \n",
            "  inflating: /content/dataset/00005/00570_00002.ppm  \n",
            "  inflating: /content/dataset/00005/00571_00000.ppm  \n",
            "  inflating: /content/dataset/00005/00571_00001.ppm  \n",
            "  inflating: /content/dataset/00005/00571_00002.ppm  \n",
            "  inflating: /content/dataset/00005/00678_00000.ppm  \n",
            "  inflating: /content/dataset/00005/00678_00001.ppm  \n",
            "  inflating: /content/dataset/00005/00678_00002.ppm  \n",
            "  inflating: /content/dataset/00005/00687_00000.ppm  \n",
            "  inflating: /content/dataset/00005/00687_00001.ppm  \n",
            "  inflating: /content/dataset/00005/00687_00002.ppm  \n",
            "  inflating: /content/dataset/00005/00702_00000.ppm  \n",
            "  inflating: /content/dataset/00005/00702_00001.ppm  \n",
            "  inflating: /content/dataset/00005/00702_00002.ppm  \n",
            "  inflating: /content/dataset/00005/00725_00000.ppm  \n",
            "  inflating: /content/dataset/00005/00725_00001.ppm  \n",
            "  inflating: /content/dataset/00005/00725_00002.ppm  \n",
            "  inflating: /content/dataset/00005/00882_00000.ppm  \n",
            "  inflating: /content/dataset/00005/00882_00001.ppm  \n",
            "  inflating: /content/dataset/00005/00882_00002.ppm  \n",
            "  inflating: /content/dataset/00005/00888_00000.ppm  \n",
            "  inflating: /content/dataset/00005/00888_00001.ppm  \n",
            "  inflating: /content/dataset/00005/00888_00002.ppm  \n",
            "  inflating: /content/dataset/00005/00905_00000.ppm  \n",
            "  inflating: /content/dataset/00005/00905_00001.ppm  \n",
            "  inflating: /content/dataset/00005/00905_00002.ppm  \n",
            "  inflating: /content/dataset/00005/00907_00000.ppm  \n",
            "  inflating: /content/dataset/00005/00907_00001.ppm  \n",
            "  inflating: /content/dataset/00005/00907_00002.ppm  \n",
            "  inflating: /content/dataset/00005/00926_00000.ppm  \n",
            "  inflating: /content/dataset/00005/00926_00001.ppm  \n",
            "  inflating: /content/dataset/00005/00929_00000.ppm  \n",
            "  inflating: /content/dataset/00005/00929_00001.ppm  \n",
            "  inflating: /content/dataset/00005/00929_00002.ppm  \n",
            "  inflating: /content/dataset/00005/00932_00000.ppm  \n",
            "  inflating: /content/dataset/00005/00932_00001.ppm  \n",
            "  inflating: /content/dataset/00005/00932_00002.ppm  \n",
            "  inflating: /content/dataset/00005/00936_00000.ppm  \n",
            "  inflating: /content/dataset/00005/00936_00001.ppm  \n",
            "  inflating: /content/dataset/00005/00936_00002.ppm  \n",
            "  inflating: /content/dataset/00005/00939_00000.ppm  \n",
            "  inflating: /content/dataset/00005/00939_00001.ppm  \n",
            "  inflating: /content/dataset/00005/00939_00002.ppm  \n",
            "  inflating: /content/dataset/00005/01015_00000.ppm  \n",
            "  inflating: /content/dataset/00005/01015_00001.ppm  \n",
            "  inflating: /content/dataset/00005/01015_00002.ppm  \n",
            "  inflating: /content/dataset/00005/01044_00002.ppm  \n",
            "  inflating: /content/dataset/00005/01051_00000.ppm  \n",
            "  inflating: /content/dataset/00005/01051_00001.ppm  \n",
            "  inflating: /content/dataset/00005/01051_00002.ppm  \n",
            "  inflating: /content/dataset/00005/01057_00001.ppm  \n",
            "  inflating: /content/dataset/00005/01099_00001.ppm  \n",
            "  inflating: /content/dataset/00005/01156_00000.ppm  \n",
            "  inflating: /content/dataset/00005/01156_00001.ppm  \n",
            "  inflating: /content/dataset/00005/01156_00002.ppm  \n",
            "  inflating: /content/dataset/00005/01168_00000.ppm  \n",
            "  inflating: /content/dataset/00005/01168_00001.ppm  \n",
            "  inflating: /content/dataset/00005/01168_00002.ppm  \n",
            "  inflating: /content/dataset/00005/01171_00000.ppm  \n",
            "  inflating: /content/dataset/00005/01171_00001.ppm  \n",
            "  inflating: /content/dataset/00005/01171_00002.ppm  \n",
            "  inflating: /content/dataset/00005/01171_00003.ppm  \n",
            "  inflating: /content/dataset/00005/01173_00000.ppm  \n",
            "  inflating: /content/dataset/00005/01173_00001.ppm  \n",
            "  inflating: /content/dataset/00005/01173_00002.ppm  \n",
            "  inflating: /content/dataset/00005/01210_00000.ppm  \n",
            "  inflating: /content/dataset/00005/01210_00001.ppm  \n",
            "  inflating: /content/dataset/00005/01210_00002.ppm  \n",
            "  inflating: /content/dataset/00005/01224_00001.ppm  \n",
            "  inflating: /content/dataset/00005/01224_00002.ppm  \n",
            "  inflating: /content/dataset/00005/01245_00000.ppm  \n",
            "  inflating: /content/dataset/00005/01245_00001.ppm  \n",
            "  inflating: /content/dataset/00005/01245_00002.ppm  \n",
            "  inflating: /content/dataset/00005/01546_00000.ppm  \n",
            "  inflating: /content/dataset/00005/01546_00001.ppm  \n",
            "  inflating: /content/dataset/00005/01550_00001.ppm  \n",
            "  inflating: /content/dataset/00005/01560_00000.ppm  \n",
            "  inflating: /content/dataset/00005/01560_00001.ppm  \n",
            "  inflating: /content/dataset/00005/test.txt  \n",
            "  inflating: /content/dataset/00005/train.txt  \n",
            "   creating: /content/dataset/00006/\n",
            "  inflating: /content/dataset/00006/00006_00000.ppm  \n",
            "  inflating: /content/dataset/00006/00006_00001.ppm  \n",
            "  inflating: /content/dataset/00006/00006_00002.ppm  \n",
            "  inflating: /content/dataset/00006/00056_00000.ppm  \n",
            "  inflating: /content/dataset/00006/00056_00001.ppm  \n",
            "  inflating: /content/dataset/00006/00058_00000.ppm  \n",
            "  inflating: /content/dataset/00006/00058_00002.ppm  \n",
            "  inflating: /content/dataset/00006/00066_00000.ppm  \n",
            "  inflating: /content/dataset/00006/00066_00001.ppm  \n",
            "  inflating: /content/dataset/00006/00066_00002.ppm  \n",
            "  inflating: /content/dataset/00006/00072_00000.ppm  \n",
            "  inflating: /content/dataset/00006/00072_00001.ppm  \n",
            "  inflating: /content/dataset/00006/00096_00000.ppm  \n",
            "  inflating: /content/dataset/00006/00096_00001.ppm  \n",
            "  inflating: /content/dataset/00006/00114_00000.ppm  \n",
            "  inflating: /content/dataset/00006/00114_00001.ppm  \n",
            "  inflating: /content/dataset/00006/00114_00002.ppm  \n",
            "  inflating: /content/dataset/00006/00170_00001.ppm  \n",
            "  inflating: /content/dataset/00006/00170_00002.ppm  \n",
            "  inflating: /content/dataset/00006/00459_00000.ppm  \n",
            "  inflating: /content/dataset/00006/00459_00001.ppm  \n",
            "  inflating: /content/dataset/00006/00854_00000.ppm  \n",
            "  inflating: /content/dataset/00006/00854_00001.ppm  \n",
            "  inflating: /content/dataset/00006/00854_00002.ppm  \n",
            "  inflating: /content/dataset/00006/00916_00000.ppm  \n",
            "  inflating: /content/dataset/00006/00916_00001.ppm  \n",
            "  inflating: /content/dataset/00006/00916_00002.ppm  \n",
            "  inflating: /content/dataset/00006/00923_00001.ppm  \n",
            "  inflating: /content/dataset/00006/00942_00000.ppm  \n",
            "  inflating: /content/dataset/00006/00942_00001.ppm  \n",
            "  inflating: /content/dataset/00006/00960_00000.ppm  \n",
            "  inflating: /content/dataset/00006/00960_00001.ppm  \n",
            "  inflating: /content/dataset/00006/00960_00002.ppm  \n",
            "  inflating: /content/dataset/00006/00980_00002.ppm  \n",
            "  inflating: /content/dataset/00006/00981_00000.ppm  \n",
            "  inflating: /content/dataset/00006/00981_00001.ppm  \n",
            "  inflating: /content/dataset/00006/00981_00002.ppm  \n",
            "  inflating: /content/dataset/00006/00982_00000.ppm  \n",
            "  inflating: /content/dataset/00006/00982_00001.ppm  \n",
            "  inflating: /content/dataset/00006/00982_00002.ppm  \n",
            "  inflating: /content/dataset/00006/00983_00000.ppm  \n",
            "  inflating: /content/dataset/00006/00983_00001.ppm  \n",
            "  inflating: /content/dataset/00006/00983_00002.ppm  \n",
            "  inflating: /content/dataset/00006/01001_00000.ppm  \n",
            "  inflating: /content/dataset/00006/01001_00001.ppm  \n",
            "  inflating: /content/dataset/00006/01001_00002.ppm  \n",
            "  inflating: /content/dataset/00006/01010_00000.ppm  \n",
            "  inflating: /content/dataset/00006/01010_00001.ppm  \n",
            "  inflating: /content/dataset/00006/01010_00002.ppm  \n",
            "  inflating: /content/dataset/00006/01038_00000.ppm  \n",
            "  inflating: /content/dataset/00006/01038_00002.ppm  \n",
            "  inflating: /content/dataset/00006/01039_00000.ppm  \n",
            "  inflating: /content/dataset/00006/01039_00001.ppm  \n",
            "  inflating: /content/dataset/00006/01039_00002.ppm  \n",
            "  inflating: /content/dataset/00006/01101_00000.ppm  \n",
            "  inflating: /content/dataset/00006/01101_00001.ppm  \n",
            "  inflating: /content/dataset/00006/01101_00002.ppm  \n",
            "  inflating: /content/dataset/00006/01106_00000.ppm  \n",
            "  inflating: /content/dataset/00006/01106_00001.ppm  \n",
            "  inflating: /content/dataset/00006/01106_00002.ppm  \n",
            "  inflating: /content/dataset/00006/01190_00000.ppm  \n",
            "  inflating: /content/dataset/00006/01190_00001.ppm  \n",
            "  inflating: /content/dataset/00006/01190_00002.ppm  \n",
            "  inflating: /content/dataset/00006/01207_00000.ppm  \n",
            "  inflating: /content/dataset/00006/01207_00001.ppm  \n",
            "  inflating: /content/dataset/00006/01207_00002.ppm  \n",
            "  inflating: /content/dataset/00006/01209_00000.ppm  \n",
            "  inflating: /content/dataset/00006/01209_00001.ppm  \n",
            "  inflating: /content/dataset/00006/01209_00002.ppm  \n",
            "  inflating: /content/dataset/00006/01212_00000.ppm  \n",
            "  inflating: /content/dataset/00006/01212_00001.ppm  \n",
            "  inflating: /content/dataset/00006/01344_00001.ppm  \n",
            "  inflating: /content/dataset/00006/01344_00002.ppm  \n",
            "  inflating: /content/dataset/00006/01349_00000.ppm  \n",
            "  inflating: /content/dataset/00006/01349_00001.ppm  \n",
            "  inflating: /content/dataset/00006/01349_00002.ppm  \n",
            "  inflating: /content/dataset/00006/01355_00000.ppm  \n",
            "  inflating: /content/dataset/00006/01355_00001.ppm  \n",
            "  inflating: /content/dataset/00006/01355_00002.ppm  \n",
            "  inflating: /content/dataset/00006/01368_00000.ppm  \n",
            "  inflating: /content/dataset/00006/01368_00001.ppm  \n",
            "  inflating: /content/dataset/00006/01368_00002.ppm  \n",
            "  inflating: /content/dataset/00006/01513_00000.ppm  \n",
            "  inflating: /content/dataset/00006/01513_00001.ppm  \n",
            "  inflating: /content/dataset/00006/01513_00002.ppm  \n",
            "  inflating: /content/dataset/00006/01571_00000.ppm  \n",
            "  inflating: /content/dataset/00006/01571_00001.ppm  \n",
            "  inflating: /content/dataset/00006/01571_00002.ppm  \n",
            "  inflating: /content/dataset/00006/01749_00000.ppm  \n",
            "  inflating: /content/dataset/00006/01895_00000.ppm  \n",
            "  inflating: /content/dataset/00006/01895_00001.ppm  \n",
            "  inflating: /content/dataset/00006/01906_00000.ppm  \n",
            "  inflating: /content/dataset/00006/01906_00001.ppm  \n",
            "  inflating: /content/dataset/00006/01906_00002.ppm  \n",
            "  inflating: /content/dataset/00006/01928_00000.ppm  \n",
            "  inflating: /content/dataset/00006/01928_00001.ppm  \n",
            "  inflating: /content/dataset/00006/01928_00002.ppm  \n",
            "  inflating: /content/dataset/00006/01936_00000.ppm  \n",
            "  inflating: /content/dataset/00006/01936_00001.ppm  \n",
            "  inflating: /content/dataset/00006/01936_00002.ppm  \n",
            "  inflating: /content/dataset/00006/test.txt  \n",
            "  inflating: /content/dataset/00006/train.txt  \n",
            "   creating: /content/dataset/00007/\n",
            "  inflating: /content/dataset/00007/00019_00000.ppm  \n",
            "  inflating: /content/dataset/00007/00019_00001.ppm  \n",
            "  inflating: /content/dataset/00007/00019_00002.ppm  \n",
            "  inflating: /content/dataset/00007/00040_00000.ppm  \n",
            "  inflating: /content/dataset/00007/00040_00001.ppm  \n",
            "  inflating: /content/dataset/00007/00040_00002.ppm  \n",
            "  inflating: /content/dataset/00007/00094_00000.ppm  \n",
            "  inflating: /content/dataset/00007/00094_00001.ppm  \n",
            "  inflating: /content/dataset/00007/00094_00002.ppm  \n",
            "  inflating: /content/dataset/00007/00200_00000.ppm  \n",
            "  inflating: /content/dataset/00007/00200_00001.ppm  \n",
            "  inflating: /content/dataset/00007/00200_00002.ppm  \n",
            "  inflating: /content/dataset/00007/00292_00000.ppm  \n",
            "  inflating: /content/dataset/00007/00292_00001.ppm  \n",
            "  inflating: /content/dataset/00007/00292_00002.ppm  \n",
            "  inflating: /content/dataset/00007/00333_00000.ppm  \n",
            "  inflating: /content/dataset/00007/00333_00001.ppm  \n",
            "  inflating: /content/dataset/00007/00333_00002.ppm  \n",
            "  inflating: /content/dataset/00007/00407_00000.ppm  \n",
            "  inflating: /content/dataset/00007/00407_00001.ppm  \n",
            "  inflating: /content/dataset/00007/00407_00002.ppm  \n",
            "  inflating: /content/dataset/00007/00517_00000.ppm  \n",
            "  inflating: /content/dataset/00007/00517_00001.ppm  \n",
            "  inflating: /content/dataset/00007/00517_00002.ppm  \n",
            "  inflating: /content/dataset/00007/00589_00000.ppm  \n",
            "  inflating: /content/dataset/00007/00589_00001.ppm  \n",
            "  inflating: /content/dataset/00007/00589_00002.ppm  \n",
            "  inflating: /content/dataset/00007/00589_00008.ppm  \n",
            "  inflating: /content/dataset/00007/00589_00009.ppm  \n",
            "  inflating: /content/dataset/00007/00642_00000.ppm  \n",
            "  inflating: /content/dataset/00007/00642_00001.ppm  \n",
            "  inflating: /content/dataset/00007/00642_00002.ppm  \n",
            "  inflating: /content/dataset/00007/00662_00000.ppm  \n",
            "  inflating: /content/dataset/00007/00662_00001.ppm  \n",
            "  inflating: /content/dataset/00007/00662_00002.ppm  \n",
            "  inflating: /content/dataset/00007/00663_00000.ppm  \n",
            "  inflating: /content/dataset/00007/00663_00001.ppm  \n",
            "  inflating: /content/dataset/00007/00663_00002.ppm  \n",
            "  inflating: /content/dataset/00007/00779_00000.ppm  \n",
            "  inflating: /content/dataset/00007/00779_00001.ppm  \n",
            "  inflating: /content/dataset/00007/00779_00002.ppm  \n",
            "  inflating: /content/dataset/00007/00898_00000.ppm  \n",
            "  inflating: /content/dataset/00007/00898_00001.ppm  \n",
            "  inflating: /content/dataset/00007/00898_00002.ppm  \n",
            "  inflating: /content/dataset/00007/01031_00000.ppm  \n",
            "  inflating: /content/dataset/00007/01031_00002.ppm  \n",
            "  inflating: /content/dataset/00007/01035_00000.ppm  \n",
            "  inflating: /content/dataset/00007/01035_00001.ppm  \n",
            "  inflating: /content/dataset/00007/01308_00000.ppm  \n",
            "  inflating: /content/dataset/00007/01308_00001.ppm  \n",
            "  inflating: /content/dataset/00007/01308_00002.ppm  \n",
            "  inflating: /content/dataset/00007/01308_10000.ppm  \n",
            "  inflating: /content/dataset/00007/01357_00000.ppm  \n",
            "  inflating: /content/dataset/00007/01357_00001.ppm  \n",
            "  inflating: /content/dataset/00007/01357_00002.ppm  \n",
            "  inflating: /content/dataset/00007/01358_00000.ppm  \n",
            "  inflating: /content/dataset/00007/01358_00001.ppm  \n",
            "  inflating: /content/dataset/00007/01366_00000.ppm  \n",
            "  inflating: /content/dataset/00007/01366_00001.ppm  \n",
            "  inflating: /content/dataset/00007/01366_00002.ppm  \n",
            "  inflating: /content/dataset/00007/01372_00000.ppm  \n",
            "  inflating: /content/dataset/00007/01372_00001.ppm  \n",
            "  inflating: /content/dataset/00007/01375_00000.ppm  \n",
            "  inflating: /content/dataset/00007/01375_00001.ppm  \n",
            "  inflating: /content/dataset/00007/01399_00000.ppm  \n",
            "  inflating: /content/dataset/00007/01399_00001.ppm  \n",
            "  inflating: /content/dataset/00007/01399_00002.ppm  \n",
            "  inflating: /content/dataset/00007/01456_00000.ppm  \n",
            "  inflating: /content/dataset/00007/01456_00001.ppm  \n",
            "  inflating: /content/dataset/00007/01675_00000.ppm  \n",
            "  inflating: /content/dataset/00007/01675_00001.ppm  \n",
            "  inflating: /content/dataset/00007/01675_00002.ppm  \n",
            "  inflating: /content/dataset/00007/01678_00000.ppm  \n",
            "  inflating: /content/dataset/00007/01678_00001.ppm  \n",
            "  inflating: /content/dataset/00007/01678_00002.ppm  \n",
            "  inflating: /content/dataset/00007/01690_00000.ppm  \n",
            "  inflating: /content/dataset/00007/01690_00001.ppm  \n",
            "  inflating: /content/dataset/00007/01690_00002.ppm  \n",
            "  inflating: /content/dataset/00007/01708_00000.ppm  \n",
            "  inflating: /content/dataset/00007/01708_00001.ppm  \n",
            "  inflating: /content/dataset/00007/01708_00002.ppm  \n",
            "  inflating: /content/dataset/00007/01726_00000.ppm  \n",
            "  inflating: /content/dataset/00007/01726_00001.ppm  \n",
            "  inflating: /content/dataset/00007/01726_00002.ppm  \n",
            "  inflating: /content/dataset/00007/01806_00000.ppm  \n",
            "  inflating: /content/dataset/00007/01806_00001.ppm  \n",
            "  inflating: /content/dataset/00007/01806_00002.ppm  \n",
            "  inflating: /content/dataset/00007/01896_00000.ppm  \n",
            "  inflating: /content/dataset/00007/01896_00001.ppm  \n",
            "  inflating: /content/dataset/00007/01896_00002.ppm  \n",
            "  inflating: /content/dataset/00007/01896_00004.ppm  \n",
            "  inflating: /content/dataset/00007/01897_00000.ppm  \n",
            "  inflating: /content/dataset/00007/01897_00001.ppm  \n",
            "  inflating: /content/dataset/00007/01897_00002.ppm  \n",
            "  inflating: /content/dataset/00007/01901_00000.ppm  \n",
            "  inflating: /content/dataset/00007/01901_00001.ppm  \n",
            "  inflating: /content/dataset/00007/01901_00002.ppm  \n",
            "  inflating: /content/dataset/00007/01904_00000.ppm  \n",
            "  inflating: /content/dataset/00007/01904_00001.ppm  \n",
            "  inflating: /content/dataset/00007/01904_00002.ppm  \n",
            "  inflating: /content/dataset/00007/test.txt  \n",
            "  inflating: /content/dataset/00007/train.txt  \n",
            "   creating: /content/dataset/00008/\n",
            "  inflating: /content/dataset/00008/00004_00000.ppm  \n",
            "  inflating: /content/dataset/00008/00004_00001.ppm  \n",
            "  inflating: /content/dataset/00008/00049_00000.ppm  \n",
            "  inflating: /content/dataset/00008/00049_00001.ppm  \n",
            "  inflating: /content/dataset/00008/00049_00002.ppm  \n",
            "  inflating: /content/dataset/00008/00059_00000.ppm  \n",
            "  inflating: /content/dataset/00008/00059_00001.ppm  \n",
            "  inflating: /content/dataset/00008/00061_00000.ppm  \n",
            "  inflating: /content/dataset/00008/00061_00001.ppm  \n",
            "  inflating: /content/dataset/00008/00061_00002.ppm  \n",
            "  inflating: /content/dataset/00008/00067_00000.ppm  \n",
            "  inflating: /content/dataset/00008/00067_00001.ppm  \n",
            "  inflating: /content/dataset/00008/00067_00002.ppm  \n",
            "  inflating: /content/dataset/00008/00075_00000.ppm  \n",
            "  inflating: /content/dataset/00008/00075_00001.ppm  \n",
            "  inflating: /content/dataset/00008/00075_00002.ppm  \n",
            "  inflating: /content/dataset/00008/00171_00001.ppm  \n",
            "  inflating: /content/dataset/00008/00171_00002.ppm  \n",
            "  inflating: /content/dataset/00008/00392_00000.ppm  \n",
            "  inflating: /content/dataset/00008/00392_00001.ppm  \n",
            "  inflating: /content/dataset/00008/00392_00002.ppm  \n",
            "  inflating: /content/dataset/00008/00393_00000.ppm  \n",
            "  inflating: /content/dataset/00008/00393_00001.ppm  \n",
            "  inflating: /content/dataset/00008/00393_00002.ppm  \n",
            "  inflating: /content/dataset/00008/00395_00000.ppm  \n",
            "  inflating: /content/dataset/00008/00395_00002.ppm  \n",
            "  inflating: /content/dataset/00008/00406_00000.ppm  \n",
            "  inflating: /content/dataset/00008/00406_00001.ppm  \n",
            "  inflating: /content/dataset/00008/00406_00002.ppm  \n",
            "  inflating: /content/dataset/00008/00416_00000.ppm  \n",
            "  inflating: /content/dataset/00008/00418_00000.ppm  \n",
            "  inflating: /content/dataset/00008/00418_00001.ppm  \n",
            "  inflating: /content/dataset/00008/00418_00002.ppm  \n",
            "  inflating: /content/dataset/00008/00434_00001.ppm  \n",
            "  inflating: /content/dataset/00008/00438_00001.ppm  \n",
            "  inflating: /content/dataset/00008/00452_00000.ppm  \n",
            "  inflating: /content/dataset/00008/00452_00001.ppm  \n",
            "  inflating: /content/dataset/00008/00452_00002.ppm  \n",
            "  inflating: /content/dataset/00008/00453_00000.ppm  \n",
            "  inflating: /content/dataset/00008/00453_00001.ppm  \n",
            "  inflating: /content/dataset/00008/00462_00000.ppm  \n",
            "  inflating: /content/dataset/00008/00462_00001.ppm  \n",
            "  inflating: /content/dataset/00008/00462_00002.ppm  \n",
            "  inflating: /content/dataset/00008/00463_00000.ppm  \n",
            "  inflating: /content/dataset/00008/00463_00001.ppm  \n",
            "  inflating: /content/dataset/00008/00463_00002.ppm  \n",
            "  inflating: /content/dataset/00008/00466_00000.ppm  \n",
            "  inflating: /content/dataset/00008/00466_00001.ppm  \n",
            "  inflating: /content/dataset/00008/00466_00002.ppm  \n",
            "  inflating: /content/dataset/00008/00653_00000.ppm  \n",
            "  inflating: /content/dataset/00008/00653_00001.ppm  \n",
            "  inflating: /content/dataset/00008/00653_00002.ppm  \n",
            "  inflating: /content/dataset/00008/00655_00000.ppm  \n",
            "  inflating: /content/dataset/00008/00655_00001.ppm  \n",
            "  inflating: /content/dataset/00008/00655_00002.ppm  \n",
            "  inflating: /content/dataset/00008/00686_00002.ppm  \n",
            "  inflating: /content/dataset/00008/00694_00000.ppm  \n",
            "  inflating: /content/dataset/00008/00694_00001.ppm  \n",
            "  inflating: /content/dataset/00008/00694_00002.ppm  \n",
            "  inflating: /content/dataset/00008/00714_00000.ppm  \n",
            "  inflating: /content/dataset/00008/00714_00001.ppm  \n",
            "  inflating: /content/dataset/00008/00740_00000.ppm  \n",
            "  inflating: /content/dataset/00008/00740_00001.ppm  \n",
            "  inflating: /content/dataset/00008/00740_00002.ppm  \n",
            "  inflating: /content/dataset/00008/00751_00000.ppm  \n",
            "  inflating: /content/dataset/00008/00751_00002.ppm  \n",
            "  inflating: /content/dataset/00008/00764_00000.ppm  \n",
            "  inflating: /content/dataset/00008/00764_00001.ppm  \n",
            "  inflating: /content/dataset/00008/00764_00002.ppm  \n",
            "  inflating: /content/dataset/00008/00772_00000.ppm  \n",
            "  inflating: /content/dataset/00008/00772_00001.ppm  \n",
            "  inflating: /content/dataset/00008/00772_00002.ppm  \n",
            "  inflating: /content/dataset/00008/00774_00000.ppm  \n",
            "  inflating: /content/dataset/00008/00774_00001.ppm  \n",
            "  inflating: /content/dataset/00008/00796_00000.ppm  \n",
            "  inflating: /content/dataset/00008/00796_00001.ppm  \n",
            "  inflating: /content/dataset/00008/00796_00002.ppm  \n",
            "  inflating: /content/dataset/00008/00822_00000.ppm  \n",
            "  inflating: /content/dataset/00008/00861_00000.ppm  \n",
            "  inflating: /content/dataset/00008/00861_00001.ppm  \n",
            "  inflating: /content/dataset/00008/00862_00000.ppm  \n",
            "  inflating: /content/dataset/00008/00862_00001.ppm  \n",
            "  inflating: /content/dataset/00008/00862_00002.ppm  \n",
            "  inflating: /content/dataset/00008/00904_00000.ppm  \n",
            "  inflating: /content/dataset/00008/01000_00002.ppm  \n",
            "  inflating: /content/dataset/00008/01029_00001.ppm  \n",
            "  inflating: /content/dataset/00008/01029_00002.ppm  \n",
            "  inflating: /content/dataset/00008/01129_00000.ppm  \n",
            "  inflating: /content/dataset/00008/01919_00001.ppm  \n",
            "  inflating: /content/dataset/00008/01919_00002.ppm  \n",
            "  inflating: /content/dataset/00008/01953_00000.ppm  \n",
            "  inflating: /content/dataset/00008/01953_00001.ppm  \n",
            "  inflating: /content/dataset/00008/01953_00002.ppm  \n",
            "  inflating: /content/dataset/00008/01954_00001.ppm  \n",
            "  inflating: /content/dataset/00008/01954_00002.ppm  \n",
            "  inflating: /content/dataset/00008/01961_00000.ppm  \n",
            "  inflating: /content/dataset/00008/01961_00001.ppm  \n",
            "  inflating: /content/dataset/00008/01961_00002.ppm  \n",
            "  inflating: /content/dataset/00008/01963_00000.ppm  \n",
            "  inflating: /content/dataset/00008/01963_00001.ppm  \n",
            "  inflating: /content/dataset/00008/test.txt  \n",
            "  inflating: /content/dataset/00008/train.txt  \n",
            "   creating: /content/dataset/00009/\n",
            "  inflating: /content/dataset/00009/00622_00000.ppm  \n",
            "  inflating: /content/dataset/00009/00622_00001.ppm  \n",
            "  inflating: /content/dataset/00009/00622_00002.ppm  \n",
            "  inflating: /content/dataset/00009/00628_00000.ppm  \n",
            "  inflating: /content/dataset/00009/00628_00001.ppm  \n",
            "  inflating: /content/dataset/00009/00628_00002.ppm  \n",
            "  inflating: /content/dataset/00009/00629_00000.ppm  \n",
            "  inflating: /content/dataset/00009/00629_00001.ppm  \n",
            "  inflating: /content/dataset/00009/00629_00002.ppm  \n",
            "  inflating: /content/dataset/00009/00640_00000.ppm  \n",
            "  inflating: /content/dataset/00009/00640_00001.ppm  \n",
            "  inflating: /content/dataset/00009/00640_00002.ppm  \n",
            "  inflating: /content/dataset/00009/00643_00000.ppm  \n",
            "  inflating: /content/dataset/00009/00643_00001.ppm  \n",
            "  inflating: /content/dataset/00009/00643_00002.ppm  \n",
            "  inflating: /content/dataset/00009/00648_00000.ppm  \n",
            "  inflating: /content/dataset/00009/00648_00001.ppm  \n",
            "  inflating: /content/dataset/00009/00648_00002.ppm  \n",
            "  inflating: /content/dataset/00009/00651_00000.ppm  \n",
            "  inflating: /content/dataset/00009/00651_00001.ppm  \n",
            "  inflating: /content/dataset/00009/00651_00002.ppm  \n",
            "  inflating: /content/dataset/00009/00678_00000.ppm  \n",
            "  inflating: /content/dataset/00009/00678_00001.ppm  \n",
            "  inflating: /content/dataset/00009/00678_00002.ppm  \n",
            "  inflating: /content/dataset/00009/00923_00000.ppm  \n",
            "  inflating: /content/dataset/00009/00923_00001.ppm  \n",
            "  inflating: /content/dataset/00009/00923_00002.ppm  \n",
            "  inflating: /content/dataset/00009/00924_00000.ppm  \n",
            "  inflating: /content/dataset/00009/00924_00001.ppm  \n",
            "  inflating: /content/dataset/00009/00924_00002.ppm  \n",
            "  inflating: /content/dataset/00009/00934_00000.ppm  \n",
            "  inflating: /content/dataset/00009/00934_00001.ppm  \n",
            "  inflating: /content/dataset/00009/00934_00002.ppm  \n",
            "  inflating: /content/dataset/00009/00940_00000.ppm  \n",
            "  inflating: /content/dataset/00009/00940_00001.ppm  \n",
            "  inflating: /content/dataset/00009/00940_00002.ppm  \n",
            "  inflating: /content/dataset/00009/00955_00000.ppm  \n",
            "  inflating: /content/dataset/00009/00955_00001.ppm  \n",
            "  inflating: /content/dataset/00009/00955_00002.ppm  \n",
            "  inflating: /content/dataset/00009/00958_00001.ppm  \n",
            "  inflating: /content/dataset/00009/00958_00002.ppm  \n",
            "  inflating: /content/dataset/00009/00962_00000.ppm  \n",
            "  inflating: /content/dataset/00009/01005_00002.ppm  \n",
            "  inflating: /content/dataset/00009/01011_00000.ppm  \n",
            "  inflating: /content/dataset/00009/01011_00001.ppm  \n",
            "  inflating: /content/dataset/00009/01011_00002.ppm  \n",
            "  inflating: /content/dataset/00009/01037_00000.ppm  \n",
            "  inflating: /content/dataset/00009/01037_00001.ppm  \n",
            "  inflating: /content/dataset/00009/01037_00002.ppm  \n",
            "  inflating: /content/dataset/00009/01098_00000.ppm  \n",
            "  inflating: /content/dataset/00009/01098_00001.ppm  \n",
            "  inflating: /content/dataset/00009/01098_00002.ppm  \n",
            "  inflating: /content/dataset/00009/01100_00000.ppm  \n",
            "  inflating: /content/dataset/00009/01100_00001.ppm  \n",
            "  inflating: /content/dataset/00009/01100_00002.ppm  \n",
            "  inflating: /content/dataset/00009/01100_00003.ppm  \n",
            "  inflating: /content/dataset/00009/01104_00000.ppm  \n",
            "  inflating: /content/dataset/00009/01104_00001.ppm  \n",
            "  inflating: /content/dataset/00009/01104_00002.ppm  \n",
            "  inflating: /content/dataset/00009/01235_00000.ppm  \n",
            "  inflating: /content/dataset/00009/01235_00001.ppm  \n",
            "  inflating: /content/dataset/00009/01235_00002.ppm  \n",
            "  inflating: /content/dataset/00009/01242_00000.ppm  \n",
            "  inflating: /content/dataset/00009/01242_00001.ppm  \n",
            "  inflating: /content/dataset/00009/01242_00002.ppm  \n",
            "  inflating: /content/dataset/00009/01261_00000.ppm  \n",
            "  inflating: /content/dataset/00009/01261_00001.ppm  \n",
            "  inflating: /content/dataset/00009/01777_00001.ppm  \n",
            "  inflating: /content/dataset/00009/01777_00002.ppm  \n",
            "  inflating: /content/dataset/00009/01838_00000.ppm  \n",
            "  inflating: /content/dataset/00009/01838_00001.ppm  \n",
            "  inflating: /content/dataset/00009/01861_00001.ppm  \n",
            "  inflating: /content/dataset/00009/01862_00001.ppm  \n",
            "  inflating: /content/dataset/00009/01862_00002.ppm  \n",
            "  inflating: /content/dataset/00009/01863_00000.ppm  \n",
            "  inflating: /content/dataset/00009/01863_00001.ppm  \n",
            "  inflating: /content/dataset/00009/01863_00002.ppm  \n",
            "  inflating: /content/dataset/00009/01864_00000.ppm  \n",
            "  inflating: /content/dataset/00009/01864_00001.ppm  \n",
            "  inflating: /content/dataset/00009/01864_00002.ppm  \n",
            "  inflating: /content/dataset/00009/01870_00001.ppm  \n",
            "  inflating: /content/dataset/00009/01870_00002.ppm  \n",
            "  inflating: /content/dataset/00009/01871_00000.ppm  \n",
            "  inflating: /content/dataset/00009/01871_00001.ppm  \n",
            "  inflating: /content/dataset/00009/01871_00002.ppm  \n",
            "  inflating: /content/dataset/00009/01883_00000.ppm  \n",
            "  inflating: /content/dataset/00009/01883_00001.ppm  \n",
            "  inflating: /content/dataset/00009/01883_00002.ppm  \n",
            "  inflating: /content/dataset/00009/01894_00000.ppm  \n",
            "  inflating: /content/dataset/00009/01894_00001.ppm  \n",
            "  inflating: /content/dataset/00009/01909_00000.ppm  \n",
            "  inflating: /content/dataset/00009/01909_00002.ppm  \n",
            "  inflating: /content/dataset/00009/01910_00001.ppm  \n",
            "  inflating: /content/dataset/00009/01910_00002.ppm  \n",
            "  inflating: /content/dataset/00009/01929_00000.ppm  \n",
            "  inflating: /content/dataset/00009/01929_00001.ppm  \n",
            "  inflating: /content/dataset/00009/01929_00002.ppm  \n",
            "  inflating: /content/dataset/00009/01935_00000.ppm  \n",
            "  inflating: /content/dataset/00009/01935_00001.ppm  \n",
            "  inflating: /content/dataset/00009/01935_00002.ppm  \n",
            "  inflating: /content/dataset/00009/test.txt  \n",
            "  inflating: /content/dataset/00009/train.txt  \n",
            "   creating: /content/dataset/00010/\n",
            "  inflating: /content/dataset/00010/00022_00000.ppm  \n",
            "  inflating: /content/dataset/00010/00022_00001.ppm  \n",
            "  inflating: /content/dataset/00010/00022_00002.ppm  \n",
            "  inflating: /content/dataset/00010/00030_00000.ppm  \n",
            "  inflating: /content/dataset/00010/00030_00001.ppm  \n",
            "  inflating: /content/dataset/00010/00448_00000.ppm  \n",
            "  inflating: /content/dataset/00010/00448_00001.ppm  \n",
            "  inflating: /content/dataset/00010/00448_00002.ppm  \n",
            "  inflating: /content/dataset/00010/00452_00000.ppm  \n",
            "  inflating: /content/dataset/00010/00452_00002.ppm  \n",
            "  inflating: /content/dataset/00010/00460_00000.ppm  \n",
            "  inflating: /content/dataset/00010/00460_00001.ppm  \n",
            "  inflating: /content/dataset/00010/00460_00002.ppm  \n",
            "  inflating: /content/dataset/00010/00464_00000.ppm  \n",
            "  inflating: /content/dataset/00010/00464_00001.ppm  \n",
            "  inflating: /content/dataset/00010/00464_00002.ppm  \n",
            "  inflating: /content/dataset/00010/00479_00000.ppm  \n",
            "  inflating: /content/dataset/00010/00479_00001.ppm  \n",
            "  inflating: /content/dataset/00010/00525_00000.ppm  \n",
            "  inflating: /content/dataset/00010/00525_00001.ppm  \n",
            "  inflating: /content/dataset/00010/00525_00002.ppm  \n",
            "  inflating: /content/dataset/00010/00530_00000.ppm  \n",
            "  inflating: /content/dataset/00010/00530_00001.ppm  \n",
            "  inflating: /content/dataset/00010/00530_00002.ppm  \n",
            "  inflating: /content/dataset/00010/00543_00000.ppm  \n",
            "  inflating: /content/dataset/00010/00543_00001.ppm  \n",
            "  inflating: /content/dataset/00010/00543_00002.ppm  \n",
            "  inflating: /content/dataset/00010/00708_00001.ppm  \n",
            "  inflating: /content/dataset/00010/00708_00002.ppm  \n",
            "  inflating: /content/dataset/00010/00711_00000.ppm  \n",
            "  inflating: /content/dataset/00010/00711_00001.ppm  \n",
            "  inflating: /content/dataset/00010/00711_00002.ppm  \n",
            "  inflating: /content/dataset/00010/00731_00000.ppm  \n",
            "  inflating: /content/dataset/00010/00731_00001.ppm  \n",
            "  inflating: /content/dataset/00010/00731_00002.ppm  \n",
            "  inflating: /content/dataset/00010/00744_00000.ppm  \n",
            "  inflating: /content/dataset/00010/00744_00002.ppm  \n",
            "  inflating: /content/dataset/00010/00765_00000.ppm  \n",
            "  inflating: /content/dataset/00010/00765_00001.ppm  \n",
            "  inflating: /content/dataset/00010/00765_00002.ppm  \n",
            "  inflating: /content/dataset/00010/00767_00000.ppm  \n",
            "  inflating: /content/dataset/00010/00767_00001.ppm  \n",
            "  inflating: /content/dataset/00010/00767_00002.ppm  \n",
            "  inflating: /content/dataset/00010/00797_00000.ppm  \n",
            "  inflating: /content/dataset/00010/00797_00001.ppm  \n",
            "  inflating: /content/dataset/00010/00817_00001.ppm  \n",
            "  inflating: /content/dataset/00010/00817_00002.ppm  \n",
            "  inflating: /content/dataset/00010/00819_00000.ppm  \n",
            "  inflating: /content/dataset/00010/00819_00001.ppm  \n",
            "  inflating: /content/dataset/00010/00826_00000.ppm  \n",
            "  inflating: /content/dataset/00010/00826_00001.ppm  \n",
            "  inflating: /content/dataset/00010/00826_00002.ppm  \n",
            "  inflating: /content/dataset/00010/00829_00002.ppm  \n",
            "  inflating: /content/dataset/00010/00853_00000.ppm  \n",
            "  inflating: /content/dataset/00010/00853_00001.ppm  \n",
            "  inflating: /content/dataset/00010/00853_00002.ppm  \n",
            "  inflating: /content/dataset/00010/00862_00000.ppm  \n",
            "  inflating: /content/dataset/00010/00862_00001.ppm  \n",
            "  inflating: /content/dataset/00010/00863_00000.ppm  \n",
            "  inflating: /content/dataset/00010/00913_00000.ppm  \n",
            "  inflating: /content/dataset/00010/00913_00001.ppm  \n",
            "  inflating: /content/dataset/00010/00990_00000.ppm  \n",
            "  inflating: /content/dataset/00010/00990_00001.ppm  \n",
            "  inflating: /content/dataset/00010/00990_00002.ppm  \n",
            "  inflating: /content/dataset/00010/00993_00000.ppm  \n",
            "  inflating: /content/dataset/00010/00993_00001.ppm  \n",
            "  inflating: /content/dataset/00010/00993_00002.ppm  \n",
            "  inflating: /content/dataset/00010/00997_00000.ppm  \n",
            "  inflating: /content/dataset/00010/00997_00001.ppm  \n",
            "  inflating: /content/dataset/00010/00997_00002.ppm  \n",
            "  inflating: /content/dataset/00010/01025_00001.ppm  \n",
            "  inflating: /content/dataset/00010/01025_00002.ppm  \n",
            "  inflating: /content/dataset/00010/01027_00000.ppm  \n",
            "  inflating: /content/dataset/00010/01027_00001.ppm  \n",
            "  inflating: /content/dataset/00010/01027_00002.ppm  \n",
            "  inflating: /content/dataset/00010/01177_00000.ppm  \n",
            "  inflating: /content/dataset/00010/01178_00001.ppm  \n",
            "  inflating: /content/dataset/00010/01179_00000.ppm  \n",
            "  inflating: /content/dataset/00010/01179_00001.ppm  \n",
            "  inflating: /content/dataset/00010/01297_00000.ppm  \n",
            "  inflating: /content/dataset/00010/01297_00001.ppm  \n",
            "  inflating: /content/dataset/00010/01297_00002.ppm  \n",
            "  inflating: /content/dataset/00010/01333_00000.ppm  \n",
            "  inflating: /content/dataset/00010/01412_00001.ppm  \n",
            "  inflating: /content/dataset/00010/01795_00001.ppm  \n",
            "  inflating: /content/dataset/00010/01795_00002.ppm  \n",
            "  inflating: /content/dataset/00010/01819_00000.ppm  \n",
            "  inflating: /content/dataset/00010/01819_00001.ppm  \n",
            "  inflating: /content/dataset/00010/01819_00002.ppm  \n",
            "  inflating: /content/dataset/00010/01821_00000.ppm  \n",
            "  inflating: /content/dataset/00010/01821_00001.ppm  \n",
            "  inflating: /content/dataset/00010/01821_00002.ppm  \n",
            "  inflating: /content/dataset/00010/01822_00000.ppm  \n",
            "  inflating: /content/dataset/00010/01822_00002.ppm  \n",
            "  inflating: /content/dataset/00010/01825_00000.ppm  \n",
            "  inflating: /content/dataset/00010/01826_00000.ppm  \n",
            "  inflating: /content/dataset/00010/01826_00002.ppm  \n",
            "  inflating: /content/dataset/00010/01827_00000.ppm  \n",
            "  inflating: /content/dataset/00010/01827_00001.ppm  \n",
            "  inflating: /content/dataset/00010/01827_00002.ppm  \n",
            "  inflating: /content/dataset/00010/test.txt  \n",
            "  inflating: /content/dataset/00010/train.txt  \n"
          ]
        }
      ]
    },
    {
      "cell_type": "markdown",
      "source": [
        "Creating CSV files (train.csv and test.csv)"
      ],
      "metadata": {
        "id": "qOCaa_3hLqcY"
      }
    },
    {
      "cell_type": "code",
      "source": [
        "label=0\n",
        "for dir in os.listdir('/content/dataset'): \n",
        "    label=int(dir)\n",
        "    #reading test.txt file of every directory and writing test example's path in test.csv\n",
        "    f = open('/content/dataset/'+str(dir)+'/test.txt', \"r\")  \n",
        "    a=f.readlines()\n",
        "    with open('test.csv', 'a', newline='') as file:\n",
        "      writer = csv.writer(file)\n",
        "      for i in range(0,len(a)):\n",
        "        writer.writerow(['/content/dataset/'+str(dir)+'/'+str(a[i][:-1]), label])\n",
        "    f.close()\n",
        "    f = open('/content/dataset/'+str(dir)+'/train.txt', \"r\")\n",
        "    a=f.readlines()\n",
        "    #reading train.txt file of every directory and writing train example's path in train.csv\n",
        "    with open('train.csv', 'a', newline='') as file:\n",
        "      writer = csv.writer(file)\n",
        "      for i in range(0,len(a)):\n",
        "        writer.writerow(['/content/dataset/'+str(dir)+'/'+str(a[i][:-1]), label])\n",
        "    f.close()\n",
        "    "
      ],
      "metadata": {
        "id": "yNo6IwFL1IaQ"
      },
      "execution_count": 3,
      "outputs": []
    },
    {
      "cell_type": "markdown",
      "source": [
        " Reading and preprocessing images"
      ],
      "metadata": {
        "id": "qlRzBerfL3iP"
      }
    },
    {
      "cell_type": "code",
      "source": [
        "train_images=[]\n",
        "train_labels=[]\n",
        "test_images=[]\n",
        "test_labels=[]\n",
        "#reading CSV files\n",
        "read_train=pd.read_csv('train.csv', sep=',',header=None)\n",
        "read_test=pd.read_csv('test.csv', sep=',',header=None)\n",
        "for i in range(0,len(read_train)):\n",
        "  #reading train images \n",
        "  img=cv2.imread(read_train[0][i])\n",
        "  #converting RGB image to gray scale image\n",
        "  img = cv2.cvtColor(img, cv2.COLOR_RGB2GRAY)\n",
        "  #resizing all images to an equal scale\n",
        "  img=cv2.resize(img,(92,92))\n",
        "  #using histogram equilization for better contrast\n",
        "  img = cv2.equalizeHist(img)\n",
        "  #adding preprocessed images to a train_images\n",
        "  train_images.append(img)\n",
        "  #adding corresponding labels to train_labels\n",
        "  train_labels.append(read_train[1][i])\n",
        "  \n",
        "for i in range(0,len(read_test)):\n",
        "  #reading test images \n",
        "  img=cv2.imread(read_test[0][i])\n",
        "  #converting RGB image to gray scale image\n",
        "  img = cv2.cvtColor(img, cv2.COLOR_RGB2GRAY)\n",
        "  #resizing all images to an equal scale\n",
        "  img=cv2.resize(img,(92,92))\n",
        "  #using histogram equilization for better contrast\n",
        "  img = cv2.equalizeHist(img)\n",
        "  #adding preprocessed images to a test_images\n",
        "  test_images.append(img)\n",
        "  #adding corresponding labels to test_labels\n",
        "  test_labels.append(read_test[1][i])"
      ],
      "metadata": {
        "id": "cCOpfaTZ1LB1"
      },
      "execution_count": 4,
      "outputs": []
    },
    {
      "cell_type": "markdown",
      "source": [
        "Displaying images and their labels"
      ],
      "metadata": {
        "id": "YYixvLyaNkgb"
      }
    },
    {
      "cell_type": "code",
      "source": [
        "#finding index of single image from each class\n",
        "ind=np.unique(train_labels,return_index=True)\n",
        "for i in ind[1]:\n",
        "  #displaying label of the image\n",
        "  print(\"train label: \",train_labels[i])\n",
        "  #displaying corresponding image\n",
        "  print(\"train image:\")\n",
        "  cv2_imshow(train_images[i])\n",
        "  print(\"***************\")\n",
        "  #print(train_labels[i])'''"
      ],
      "metadata": {
        "colab": {
          "base_uri": "https://localhost:8080/",
          "height": 1000
        },
        "id": "WQMbkbcizZhq",
        "outputId": "c369a678-4429-4cca-da2e-701787cda830"
      },
      "execution_count": 5,
      "outputs": [
        {
          "output_type": "stream",
          "name": "stdout",
          "text": [
            "train label:  1\n",
            "train image:\n"
          ]
        },
        {
          "output_type": "display_data",
          "data": {
            "image/png": "[encoded data removed]",
            "text/plain": [
              "<PIL.Image.Image image mode=L size=92x92 at 0x7EFF88CEF910>"
            ]
          },
          "metadata": {}
        },
        {
          "output_type": "stream",
          "name": "stdout",
          "text": [
            "***************\n",
            "train label:  2\n",
            "train image:\n"
          ]
        },
        {
          "output_type": "display_data",
          "data": {
            "image/png": "[encoded data removed]",
            "text/plain": [
              "<PIL.Image.Image image mode=L size=92x92 at 0x7EFF7068FB90>"
            ]
          },
          "metadata": {}
        },
        {
          "output_type": "stream",
          "name": "stdout",
          "text": [
            "***************\n",
            "train label:  3\n",
            "train image:\n"
          ]
        },
        {
          "output_type": "display_data",
          "data": {
            "image/png": "[encoded data removed]",
            "text/plain": [
              "<PIL.Image.Image image mode=L size=92x92 at 0x7EFF88CEF910>"
            ]
          },
          "metadata": {}
        },
        {
          "output_type": "stream",
          "name": "stdout",
          "text": [
            "***************\n",
            "train label:  4\n",
            "train image:\n"
          ]
        },
        {
          "output_type": "display_data",
          "data": {
            "image/png": "[encoded data removed]",
            "text/plain": [
              "<PIL.Image.Image image mode=L size=92x92 at 0x7EFF70696A90>"
            ]
          },
          "metadata": {}
        },
        {
          "output_type": "stream",
          "name": "stdout",
          "text": [
            "***************\n",
            "train label:  5\n",
            "train image:\n"
          ]
        },
        {
          "output_type": "display_data",
          "data": {
            "image/png": "[encoded data removed]",
            "text/plain": [
              "<PIL.Image.Image image mode=L size=92x92 at 0x7EFF70696A10>"
            ]
          },
          "metadata": {}
        },
        {
          "output_type": "stream",
          "name": "stdout",
          "text": [
            "***************\n",
            "train label:  6\n",
            "train image:\n"
          ]
        },
        {
          "output_type": "display_data",
          "data": {
            "image/png": "[encoded data removed]",
            "text/plain": [
              "<PIL.Image.Image image mode=L size=92x92 at 0x7EFF70696E90>"
            ]
          },
          "metadata": {}
        },
        {
          "output_type": "stream",
          "name": "stdout",
          "text": [
            "***************\n",
            "train label:  7\n",
            "train image:\n"
          ]
        },
        {
          "output_type": "display_data",
          "data": {
            "image/png": "[encoded data removed]",
            "text/plain": [
              "<PIL.Image.Image image mode=L size=92x92 at 0x7EFF70696850>"
            ]
          },
          "metadata": {}
        },
        {
          "output_type": "stream",
          "name": "stdout",
          "text": [
            "***************\n",
            "train label:  8\n",
            "train image:\n"
          ]
        },
        {
          "output_type": "display_data",
          "data": {
            "image/png": "[encoded data removed]",
            "text/plain": [
              "<PIL.Image.Image image mode=L size=92x92 at 0x7EFF70622050>"
            ]
          },
          "metadata": {}
        },
        {
          "output_type": "stream",
          "name": "stdout",
          "text": [
            "***************\n",
            "train label:  9\n",
            "train image:\n"
          ]
        },
        {
          "output_type": "display_data",
          "data": {
            "image/png": "[encoded data removed]",
            "text/plain": [
              "<PIL.Image.Image image mode=L size=92x92 at 0x7EFF70622410>"
            ]
          },
          "metadata": {}
        },
        {
          "output_type": "stream",
          "name": "stdout",
          "text": [
            "***************\n",
            "train label:  10\n",
            "train image:\n"
          ]
        },
        {
          "output_type": "display_data",
          "data": {
            "image/png": "[encoded data removed]",
            "text/plain": [
              "<PIL.Image.Image image mode=L size=92x92 at 0x7EFF706221D0>"
            ]
          },
          "metadata": {}
        },
        {
          "output_type": "stream",
          "name": "stdout",
          "text": [
            "***************\n"
          ]
        }
      ]
    },
    {
      "cell_type": "markdown",
      "source": [
        "Drawing Keypoints on images"
      ],
      "metadata": {
        "id": "K-QhyEfxN4lY"
      }
    },
    {
      "cell_type": "code",
      "source": [
        "def draw_keypoints(vis, keypoints, color = (0, 255, 255)):\n",
        "    #displaying image without keypoints\n",
        "    cv2_imshow(vis)\n",
        "    for kp in keypoints:\n",
        "      #finding x and y coordinates of key points\n",
        "      x, y = kp.pt\n",
        "      #plotting image along with the keypoints\n",
        "      plt.imshow(cv2.circle(vis, (int(x), int(y)), 2, color))"
      ],
      "metadata": {
        "id": "N79ZsKqoNhKg"
      },
      "execution_count": 6,
      "outputs": []
    },
    {
      "cell_type": "markdown",
      "source": [
        "## **Training**"
      ],
      "metadata": {
        "id": "tUowmKJ0hkQI"
      }
    },
    {
      "cell_type": "markdown",
      "source": [
        "Using Fast for detecting keypoints and Orb for computing descriptors using keypoints detected by fast"
      ],
      "metadata": {
        "id": "-_aflu_1OrhG"
      }
    },
    {
      "cell_type": "code",
      "source": [
        "descriptors=[]\n",
        "keypoints=[]\n",
        "y_train=[]\n",
        "#creating object of FastFeature descriptor\n",
        "fast = cv2.FastFeatureDetector_create()\n",
        "#turing off non maximul suppression\n",
        "fast.setNonmaxSuppression(False)\n",
        "#creating object of ORB\n",
        "orb=cv2.ORB_create(nfeatures=100)\n",
        "for i in range(0,len(train_images)):\n",
        "    #finding keypoints using Fast feature descriptor\n",
        "    kp=fast.detect(train_images[i],None)\n",
        "    #finding descriptors ORB\n",
        "    kp,descriptor= orb.compute(train_images[i], kp)\n",
        "    #appending all the descriptors, keypoints, train_labels with non-Null values\n",
        "    if(len(kp)!=0):\n",
        "      descriptors.append(descriptor)\n",
        "      keypoints.append(kp)\n",
        "      y_train.append(read_train[1][i])\n",
        "#stacking all the descriptors from all the training examples\n",
        "ds=descriptors[0]\n",
        "for descriptor in descriptors[1:]:\n",
        "    ds=np.vstack((ds,descriptor))\n",
        "#displaying number of training examples\n",
        "print(len(y_train))\n"
      ],
      "metadata": {
        "colab": {
          "base_uri": "https://localhost:8080/"
        },
        "id": "tnUTOLdl3kDY",
        "outputId": "85b49a1b-e0f9-4b92-8728-f5232182e62a"
      },
      "execution_count": 7,
      "outputs": [
        {
          "output_type": "stream",
          "name": "stdout",
          "text": [
            "800\n"
          ]
        }
      ]
    },
    {
      "cell_type": "code",
      "source": [
        "#displaying keypoints of a training example\n",
        "draw_keypoints(train_images[100],keypoints[100])\n",
        "print(keypoints[100])"
      ],
      "metadata": {
        "colab": {
          "base_uri": "https://localhost:8080/",
          "height": 398
        },
        "id": "bRNj1TUROYLx",
        "outputId": "841f5e5b-bd2c-4944-93f8-29ce172fe515"
      },
      "execution_count": 8,
      "outputs": [
        {
          "output_type": "display_data",
          "data": {
            "image/png": "[encoded data removed]",
            "text/plain": [
              "<PIL.Image.Image image mode=L size=92x92 at 0x7EFF70733890>"
            ]
          },
          "metadata": {}
        },
        {
          "output_type": "stream",
          "name": "stdout",
          "text": [
            "[<KeyPoint 0x7eff704af060>, <KeyPoint 0x7eff704af090>, <KeyPoint 0x7eff704af0c0>, <KeyPoint 0x7eff704af0f0>, <KeyPoint 0x7eff704af120>, <KeyPoint 0x7eff704af150>, <KeyPoint 0x7eff704af180>, <KeyPoint 0x7eff704af1b0>, <KeyPoint 0x7eff704af1e0>, <KeyPoint 0x7eff704af210>, <KeyPoint 0x7eff704af240>, <KeyPoint 0x7eff704af270>, <KeyPoint 0x7eff704af2a0>, <KeyPoint 0x7eff704af2d0>, <KeyPoint 0x7eff704af300>, <KeyPoint 0x7eff704af330>, <KeyPoint 0x7eff704af360>, <KeyPoint 0x7eff704af390>, <KeyPoint 0x7eff704af3c0>, <KeyPoint 0x7eff704af3f0>, <KeyPoint 0x7eff704af420>, <KeyPoint 0x7eff704af450>, <KeyPoint 0x7eff704af480>, <KeyPoint 0x7eff704af4b0>, <KeyPoint 0x7eff704af4e0>, <KeyPoint 0x7eff704af510>, <KeyPoint 0x7eff704af540>, <KeyPoint 0x7eff704af570>, <KeyPoint 0x7eff704af5a0>, <KeyPoint 0x7eff704af5d0>, <KeyPoint 0x7eff704af600>, <KeyPoint 0x7eff704af630>, <KeyPoint 0x7eff704af660>, <KeyPoint 0x7eff704af690>, <KeyPoint 0x7eff704af6c0>, <KeyPoint 0x7eff704af6f0>, <KeyPoint 0x7eff704af720>, <KeyPoint 0x7eff704af750>, <KeyPoint 0x7eff704af780>, <KeyPoint 0x7eff704af7b0>, <KeyPoint 0x7eff704af7e0>, <KeyPoint 0x7eff704af810>, <KeyPoint 0x7eff704af840>, <KeyPoint 0x7eff704af870>, <KeyPoint 0x7eff704af8a0>, <KeyPoint 0x7eff704af8d0>, <KeyPoint 0x7eff704af900>, <KeyPoint 0x7eff704af930>, <KeyPoint 0x7eff704af960>, <KeyPoint 0x7eff704af990>, <KeyPoint 0x7eff704af9c0>, <KeyPoint 0x7eff704af9f0>, <KeyPoint 0x7eff704afa20>, <KeyPoint 0x7eff704afa50>, <KeyPoint 0x7eff704afa80>, <KeyPoint 0x7eff704afab0>, <KeyPoint 0x7eff704afae0>, <KeyPoint 0x7eff704afb10>, <KeyPoint 0x7eff704afb40>, <KeyPoint 0x7eff704afb70>, <KeyPoint 0x7eff704afba0>, <KeyPoint 0x7eff704afbd0>, <KeyPoint 0x7eff704afc00>, <KeyPoint 0x7eff704afc30>, <KeyPoint 0x7eff704afc60>, <KeyPoint 0x7eff704afc90>, <KeyPoint 0x7eff704afcc0>, <KeyPoint 0x7eff704afcf0>, <KeyPoint 0x7eff704afd20>, <KeyPoint 0x7eff704afd50>, <KeyPoint 0x7eff704afd80>, <KeyPoint 0x7eff704afdb0>, <KeyPoint 0x7eff704afde0>, <KeyPoint 0x7eff704afe10>, <KeyPoint 0x7eff704afe40>, <KeyPoint 0x7eff704afe70>, <KeyPoint 0x7eff704afea0>, <KeyPoint 0x7eff704afed0>, <KeyPoint 0x7eff704aff00>, <KeyPoint 0x7eff704aff30>, <KeyPoint 0x7eff704aff60>, <KeyPoint 0x7eff704aff90>, <KeyPoint 0x7eff704affc0>, <KeyPoint 0x7eff704b0030>, <KeyPoint 0x7eff704b0060>, <KeyPoint 0x7eff704b0090>, <KeyPoint 0x7eff704b00c0>, <KeyPoint 0x7eff704b00f0>, <KeyPoint 0x7eff704b0120>, <KeyPoint 0x7eff704b0150>, <KeyPoint 0x7eff704b0180>, <KeyPoint 0x7eff704b01b0>, <KeyPoint 0x7eff704b01e0>, <KeyPoint 0x7eff704b0210>, <KeyPoint 0x7eff704b0240>, <KeyPoint 0x7eff704b0270>, <KeyPoint 0x7eff704b02a0>, <KeyPoint 0x7eff704b02d0>, <KeyPoint 0x7eff704b0300>, <KeyPoint 0x7eff704b0330>, <KeyPoint 0x7eff704b0360>, <KeyPoint 0x7eff704b0390>, <KeyPoint 0x7eff704b03c0>, <KeyPoint 0x7eff704b03f0>, <KeyPoint 0x7eff704b0420>, <KeyPoint 0x7eff704b0450>, <KeyPoint 0x7eff704b0480>, <KeyPoint 0x7eff704b04b0>, <KeyPoint 0x7eff704b04e0>, <KeyPoint 0x7eff704b0510>, <KeyPoint 0x7eff704b0540>, <KeyPoint 0x7eff704b0570>, <KeyPoint 0x7eff704b05a0>, <KeyPoint 0x7eff704b05d0>, <KeyPoint 0x7eff704b0600>, <KeyPoint 0x7eff704b0630>, <KeyPoint 0x7eff704b0660>, <KeyPoint 0x7eff704b0690>, <KeyPoint 0x7eff704b06c0>, <KeyPoint 0x7eff704b06f0>, <KeyPoint 0x7eff704b0720>, <KeyPoint 0x7eff704b0750>, <KeyPoint 0x7eff704b0780>, <KeyPoint 0x7eff704b07b0>, <KeyPoint 0x7eff704b07e0>, <KeyPoint 0x7eff704b0810>, <KeyPoint 0x7eff704b0840>, <KeyPoint 0x7eff704b0870>, <KeyPoint 0x7eff704b08a0>, <KeyPoint 0x7eff704b08d0>, <KeyPoint 0x7eff704b0900>, <KeyPoint 0x7eff704b0930>, <KeyPoint 0x7eff704b0960>, <KeyPoint 0x7eff704b0990>, <KeyPoint 0x7eff704b09c0>, <KeyPoint 0x7eff704b09f0>, <KeyPoint 0x7eff704b0a20>, <KeyPoint 0x7eff704b0a50>, <KeyPoint 0x7eff704b0a80>, <KeyPoint 0x7eff704b0ab0>, <KeyPoint 0x7eff704b0ae0>, <KeyPoint 0x7eff704b0b10>, <KeyPoint 0x7eff704b0b40>, <KeyPoint 0x7eff704b0b70>, <KeyPoint 0x7eff704b0ba0>, <KeyPoint 0x7eff704b0bd0>, <KeyPoint 0x7eff704b0c00>, <KeyPoint 0x7eff704b0c30>, <KeyPoint 0x7eff704b0c60>, <KeyPoint 0x7eff704b0c90>, <KeyPoint 0x7eff704b0cc0>, <KeyPoint 0x7eff704b0cf0>, <KeyPoint 0x7eff704b0d20>, <KeyPoint 0x7eff704b0d50>, <KeyPoint 0x7eff704b0d80>, <KeyPoint 0x7eff704b0db0>, <KeyPoint 0x7eff704b0de0>, <KeyPoint 0x7eff704b0e10>, <KeyPoint 0x7eff704b0e40>, <KeyPoint 0x7eff704b0e70>, <KeyPoint 0x7eff704b0ea0>, <KeyPoint 0x7eff704b0ed0>, <KeyPoint 0x7eff704b0f00>, <KeyPoint 0x7eff704b0f30>, <KeyPoint 0x7eff704b0f60>, <KeyPoint 0x7eff704b0f90>, <KeyPoint 0x7eff704b0fc0>, <KeyPoint 0x7eff704b1030>, <KeyPoint 0x7eff704b1060>, <KeyPoint 0x7eff704b1090>, <KeyPoint 0x7eff704b10c0>, <KeyPoint 0x7eff704b10f0>, <KeyPoint 0x7eff704b1120>, <KeyPoint 0x7eff704b1150>, <KeyPoint 0x7eff704b1180>, <KeyPoint 0x7eff704b11b0>, <KeyPoint 0x7eff704b11e0>, <KeyPoint 0x7eff704b1210>]\n"
          ]
        },
        {
          "output_type": "display_data",
          "data": {
            "image/png": "[encoded data removed]",
            "text/plain": [
              "<Figure size 432x288 with 1 Axes>"
            ]
          },
          "metadata": {
            "needs_background": "light"
          }
        }
      ]
    },
    {
      "cell_type": "markdown",
      "source": [
        "Using K-Means Clustering on Discriptors"
      ],
      "metadata": {
        "id": "m5SYmxTWPcXQ"
      }
    },
    {
      "cell_type": "code",
      "source": [
        "#converting desciptors type to float\n",
        "descriptors_float=ds.astype(float)\n",
        "#forming 10 clusters\n",
        "k=10\n",
        "voc,variance=kmeans(descriptors_float,k,1)\n",
        "im_features=np.zeros((len(descriptors),k),\"float32\")\n",
        "#calculating features\n",
        "for i in range(len(descriptors)):\n",
        "    words,distance=vq(descriptors[i],voc)\n",
        "    for w in words:\n",
        "        im_features[i][w]+=1"
      ],
      "metadata": {
        "id": "W58A6xcxlgAO"
      },
      "execution_count": 9,
      "outputs": []
    },
    {
      "cell_type": "markdown",
      "source": [
        "Performing Classification using SVM"
      ],
      "metadata": {
        "id": "cabz5pJ7QN4W"
      }
    },
    {
      "cell_type": "code",
      "source": [
        "#standardizing features\n",
        "stdslr=StandardScaler().fit(im_features)\n",
        "im_features=stdslr.transform(im_features)\n",
        "#fitting SVM Model on training dataset\n",
        "clf=LinearSVC(max_iter=80000)\n",
        "clf.fit(im_features,np.array(y_train))"
      ],
      "metadata": {
        "id": "865X1DuQl4ci",
        "colab": {
          "base_uri": "https://localhost:8080/"
        },
        "outputId": "196a418b-671f-43c7-8529-6844963cda96"
      },
      "execution_count": 10,
      "outputs": [
        {
          "output_type": "execute_result",
          "data": {
            "text/plain": [
              "LinearSVC(max_iter=80000)"
            ]
          },
          "metadata": {},
          "execution_count": 10
        }
      ]
    },
    {
      "cell_type": "markdown",
      "source": [
        "## **Testing**\n"
      ],
      "metadata": {
        "id": "dxmBkIOc_JKt"
      }
    },
    {
      "cell_type": "markdown",
      "source": [
        "Repeating the same pipeline for testing images\n",
        "\n"
      ],
      "metadata": {
        "id": "G4q_2cuQhStf"
      }
    },
    {
      "cell_type": "code",
      "source": [
        "dstest=[]\n",
        "t_labels=[]\n",
        "for i in range(0,len(test_images)):\n",
        "    #finding keypoints using Fast feature descriptor\n",
        "    kp=fast.detect(test_images[i],None)\n",
        "    #finding descriptors ORB\n",
        "    kp, descriptor_test = orb.compute(test_images[i],  kp)\n",
        "    #appending all the descriptors, keypoints, test_labels with non-Null values\n",
        "    if(len(kp)!=0):\n",
        "      dstest.append(descriptor_test)\n",
        "      t_labels.append(test_labels[i])\n",
        "#displaying number of testing examples\n",
        "print(len(t_labels))"
      ],
      "metadata": {
        "id": "UcQ8_lVO_O_O",
        "colab": {
          "base_uri": "https://localhost:8080/"
        },
        "outputId": "bc253a8b-839d-48bb-fa42-04b1ba825d52"
      },
      "execution_count": 11,
      "outputs": [
        {
          "output_type": "stream",
          "name": "stdout",
          "text": [
            "200\n"
          ]
        }
      ]
    },
    {
      "cell_type": "code",
      "source": [
        "t_ds=dstest[0]\n",
        "#stacking all the descriptors from all the testing examples\n",
        "for descriptor in dstest[1:]:\n",
        "    t_ds=np.vstack((t_ds,descriptor))"
      ],
      "metadata": {
        "id": "I5-U--cOCoVL"
      },
      "execution_count": 12,
      "outputs": []
    },
    {
      "cell_type": "code",
      "source": [
        "#calculating features\n",
        "test_features=np.zeros((len(t_labels),k),\"float32\")\n",
        "for i in range(len(t_labels)):\n",
        "    words,distance=vq(dstest[i],voc)\n",
        "    for w in words:\n",
        "        test_features[i][w]+=1"
      ],
      "metadata": {
        "id": "H-LOcaKq_tfm"
      },
      "execution_count": 13,
      "outputs": []
    },
    {
      "cell_type": "code",
      "source": [
        "#standardizing predictions\n",
        "test_features=stdslr.transform(test_features)\n",
        "predict_classes=[]\n",
        "#running model on test features for predictions\n",
        "for i in clf.predict(test_features):\n",
        "        predict_classes.append(i)"
      ],
      "metadata": {
        "id": "JjbVKF1BDm0R"
      },
      "execution_count": 14,
      "outputs": []
    },
    {
      "cell_type": "markdown",
      "source": [
        "## **Evaluation**"
      ],
      "metadata": {
        "id": "gRaOpW3vgahD"
      }
    },
    {
      "cell_type": "code",
      "source": [
        "#gathering material for Qualitative and Quantitative Results\n",
        "TP=0\n",
        "misclassified_images=[]\n",
        "misclassified_labels=[]\n",
        "actual_labels=[]\n",
        "correctlyclass_images=[]\n",
        "correctlyclass_labels=[]\n",
        "confusion_matrix=np.zeros((11,11))\n",
        "for i in range(1,11):\n",
        "  confusion_matrix[0][i]=i\n",
        "  confusion_matrix[i][0]=i\n",
        "for i in range(0,len(predict_classes)):\n",
        "  print(\"actual labels:\",t_labels[i],\"predict labels: \",predict_classes[i])\n",
        "  if(t_labels[i]==predict_classes[i]):\n",
        "    TP+=1\n",
        "    correctlyclass_images.append(test_images[i])\n",
        "    correctlyclass_labels.append(predict_classes[i])\n",
        "  else:\n",
        "    misclassified_images.append(test_images[i])\n",
        "    misclassified_labels.append(predict_classes[i])\n",
        "    actual_labels.append(t_labels[i])\n",
        "  confusion_matrix[t_labels[i]][predict_classes[i]]+=1\n"
      ],
      "metadata": {
        "colab": {
          "base_uri": "https://localhost:8080/"
        },
        "id": "_u-bFpBDDyQ8",
        "outputId": "f52eaa40-3197-4122-f78f-88c38dbc5d2f"
      },
      "execution_count": 23,
      "outputs": [
        {
          "output_type": "stream",
          "name": "stdout",
          "text": [
            "actual labels: 3 predict labels:  3\n",
            "actual labels: 3 predict labels:  3\n",
            "actual labels: 3 predict labels:  3\n",
            "actual labels: 3 predict labels:  3\n",
            "actual labels: 3 predict labels:  3\n",
            "actual labels: 3 predict labels:  3\n",
            "actual labels: 3 predict labels:  3\n",
            "actual labels: 3 predict labels:  3\n",
            "actual labels: 3 predict labels:  3\n",
            "actual labels: 3 predict labels:  3\n",
            "actual labels: 3 predict labels:  3\n",
            "actual labels: 3 predict labels:  3\n",
            "actual labels: 3 predict labels:  3\n",
            "actual labels: 3 predict labels:  3\n",
            "actual labels: 3 predict labels:  3\n",
            "actual labels: 3 predict labels:  3\n",
            "actual labels: 3 predict labels:  3\n",
            "actual labels: 3 predict labels:  3\n",
            "actual labels: 3 predict labels:  3\n",
            "actual labels: 3 predict labels:  3\n",
            "actual labels: 2 predict labels:  2\n",
            "actual labels: 2 predict labels:  2\n",
            "actual labels: 2 predict labels:  2\n",
            "actual labels: 2 predict labels:  2\n",
            "actual labels: 2 predict labels:  2\n",
            "actual labels: 2 predict labels:  2\n",
            "actual labels: 2 predict labels:  2\n",
            "actual labels: 2 predict labels:  2\n",
            "actual labels: 2 predict labels:  2\n",
            "actual labels: 2 predict labels:  2\n",
            "actual labels: 2 predict labels:  2\n",
            "actual labels: 2 predict labels:  2\n",
            "actual labels: 2 predict labels:  2\n",
            "actual labels: 2 predict labels:  3\n",
            "actual labels: 2 predict labels:  2\n",
            "actual labels: 2 predict labels:  2\n",
            "actual labels: 2 predict labels:  2\n",
            "actual labels: 2 predict labels:  2\n",
            "actual labels: 2 predict labels:  2\n",
            "actual labels: 2 predict labels:  2\n",
            "actual labels: 1 predict labels:  1\n",
            "actual labels: 1 predict labels:  1\n",
            "actual labels: 1 predict labels:  1\n",
            "actual labels: 1 predict labels:  1\n",
            "actual labels: 1 predict labels:  5\n",
            "actual labels: 1 predict labels:  9\n",
            "actual labels: 1 predict labels:  1\n",
            "actual labels: 1 predict labels:  1\n",
            "actual labels: 1 predict labels:  2\n",
            "actual labels: 1 predict labels:  1\n",
            "actual labels: 1 predict labels:  1\n",
            "actual labels: 1 predict labels:  1\n",
            "actual labels: 1 predict labels:  1\n",
            "actual labels: 1 predict labels:  1\n",
            "actual labels: 1 predict labels:  1\n",
            "actual labels: 1 predict labels:  1\n",
            "actual labels: 1 predict labels:  1\n",
            "actual labels: 1 predict labels:  6\n",
            "actual labels: 1 predict labels:  1\n",
            "actual labels: 1 predict labels:  1\n",
            "actual labels: 8 predict labels:  8\n",
            "actual labels: 8 predict labels:  8\n",
            "actual labels: 8 predict labels:  8\n",
            "actual labels: 8 predict labels:  8\n",
            "actual labels: 8 predict labels:  8\n",
            "actual labels: 8 predict labels:  8\n",
            "actual labels: 8 predict labels:  8\n",
            "actual labels: 8 predict labels:  8\n",
            "actual labels: 8 predict labels:  8\n",
            "actual labels: 8 predict labels:  8\n",
            "actual labels: 8 predict labels:  8\n",
            "actual labels: 8 predict labels:  8\n",
            "actual labels: 8 predict labels:  8\n",
            "actual labels: 8 predict labels:  8\n",
            "actual labels: 8 predict labels:  8\n",
            "actual labels: 8 predict labels:  8\n",
            "actual labels: 8 predict labels:  8\n",
            "actual labels: 8 predict labels:  8\n",
            "actual labels: 8 predict labels:  8\n",
            "actual labels: 8 predict labels:  8\n",
            "actual labels: 7 predict labels:  7\n",
            "actual labels: 7 predict labels:  6\n",
            "actual labels: 7 predict labels:  6\n",
            "actual labels: 7 predict labels:  5\n",
            "actual labels: 7 predict labels:  1\n",
            "actual labels: 7 predict labels:  7\n",
            "actual labels: 7 predict labels:  7\n",
            "actual labels: 7 predict labels:  1\n",
            "actual labels: 7 predict labels:  1\n",
            "actual labels: 7 predict labels:  1\n",
            "actual labels: 7 predict labels:  2\n",
            "actual labels: 7 predict labels:  9\n",
            "actual labels: 7 predict labels:  7\n",
            "actual labels: 7 predict labels:  9\n",
            "actual labels: 7 predict labels:  9\n",
            "actual labels: 7 predict labels:  6\n",
            "actual labels: 7 predict labels:  8\n",
            "actual labels: 7 predict labels:  6\n",
            "actual labels: 7 predict labels:  6\n",
            "actual labels: 7 predict labels:  1\n",
            "actual labels: 5 predict labels:  5\n",
            "actual labels: 5 predict labels:  5\n",
            "actual labels: 5 predict labels:  5\n",
            "actual labels: 5 predict labels:  9\n",
            "actual labels: 5 predict labels:  5\n",
            "actual labels: 5 predict labels:  5\n",
            "actual labels: 5 predict labels:  9\n",
            "actual labels: 5 predict labels:  7\n",
            "actual labels: 5 predict labels:  5\n",
            "actual labels: 5 predict labels:  5\n",
            "actual labels: 5 predict labels:  5\n",
            "actual labels: 5 predict labels:  5\n",
            "actual labels: 5 predict labels:  5\n",
            "actual labels: 5 predict labels:  5\n",
            "actual labels: 5 predict labels:  5\n",
            "actual labels: 5 predict labels:  5\n",
            "actual labels: 5 predict labels:  5\n",
            "actual labels: 5 predict labels:  5\n",
            "actual labels: 5 predict labels:  5\n",
            "actual labels: 5 predict labels:  5\n",
            "actual labels: 10 predict labels:  10\n",
            "actual labels: 10 predict labels:  10\n",
            "actual labels: 10 predict labels:  10\n",
            "actual labels: 10 predict labels:  10\n",
            "actual labels: 10 predict labels:  10\n",
            "actual labels: 10 predict labels:  10\n",
            "actual labels: 10 predict labels:  10\n",
            "actual labels: 10 predict labels:  10\n",
            "actual labels: 10 predict labels:  10\n",
            "actual labels: 10 predict labels:  10\n",
            "actual labels: 10 predict labels:  10\n",
            "actual labels: 10 predict labels:  10\n",
            "actual labels: 10 predict labels:  10\n",
            "actual labels: 10 predict labels:  10\n",
            "actual labels: 10 predict labels:  10\n",
            "actual labels: 10 predict labels:  10\n",
            "actual labels: 10 predict labels:  10\n",
            "actual labels: 10 predict labels:  10\n",
            "actual labels: 10 predict labels:  10\n",
            "actual labels: 10 predict labels:  10\n",
            "actual labels: 6 predict labels:  6\n",
            "actual labels: 6 predict labels:  6\n",
            "actual labels: 6 predict labels:  6\n",
            "actual labels: 6 predict labels:  6\n",
            "actual labels: 6 predict labels:  6\n",
            "actual labels: 6 predict labels:  6\n",
            "actual labels: 6 predict labels:  6\n",
            "actual labels: 6 predict labels:  6\n",
            "actual labels: 6 predict labels:  6\n",
            "actual labels: 6 predict labels:  6\n",
            "actual labels: 6 predict labels:  6\n",
            "actual labels: 6 predict labels:  6\n",
            "actual labels: 6 predict labels:  6\n",
            "actual labels: 6 predict labels:  6\n",
            "actual labels: 6 predict labels:  6\n",
            "actual labels: 6 predict labels:  6\n",
            "actual labels: 6 predict labels:  6\n",
            "actual labels: 6 predict labels:  6\n",
            "actual labels: 6 predict labels:  6\n",
            "actual labels: 6 predict labels:  6\n",
            "actual labels: 4 predict labels:  4\n",
            "actual labels: 4 predict labels:  4\n",
            "actual labels: 4 predict labels:  4\n",
            "actual labels: 4 predict labels:  4\n",
            "actual labels: 4 predict labels:  4\n",
            "actual labels: 4 predict labels:  4\n",
            "actual labels: 4 predict labels:  4\n",
            "actual labels: 4 predict labels:  4\n",
            "actual labels: 4 predict labels:  4\n",
            "actual labels: 4 predict labels:  4\n",
            "actual labels: 4 predict labels:  4\n",
            "actual labels: 4 predict labels:  4\n",
            "actual labels: 4 predict labels:  4\n",
            "actual labels: 4 predict labels:  4\n",
            "actual labels: 4 predict labels:  4\n",
            "actual labels: 4 predict labels:  4\n",
            "actual labels: 4 predict labels:  4\n",
            "actual labels: 4 predict labels:  4\n",
            "actual labels: 4 predict labels:  4\n",
            "actual labels: 4 predict labels:  4\n",
            "actual labels: 9 predict labels:  9\n",
            "actual labels: 9 predict labels:  9\n",
            "actual labels: 9 predict labels:  9\n",
            "actual labels: 9 predict labels:  9\n",
            "actual labels: 9 predict labels:  9\n",
            "actual labels: 9 predict labels:  8\n",
            "actual labels: 9 predict labels:  9\n",
            "actual labels: 9 predict labels:  9\n",
            "actual labels: 9 predict labels:  9\n",
            "actual labels: 9 predict labels:  9\n",
            "actual labels: 9 predict labels:  9\n",
            "actual labels: 9 predict labels:  9\n",
            "actual labels: 9 predict labels:  3\n",
            "actual labels: 9 predict labels:  3\n",
            "actual labels: 9 predict labels:  8\n",
            "actual labels: 9 predict labels:  9\n",
            "actual labels: 9 predict labels:  9\n",
            "actual labels: 9 predict labels:  9\n",
            "actual labels: 9 predict labels:  9\n",
            "actual labels: 9 predict labels:  9\n"
          ]
        }
      ]
    },
    {
      "cell_type": "markdown",
      "source": [
        "## Quantitative Results: Displaying Accuracy and Confusion Matrix"
      ],
      "metadata": {
        "id": "IJ0W7Qt9ff-u"
      }
    },
    {
      "cell_type": "code",
      "source": [
        "print(\"Accuracy: \",TP/len(predict_classes)*100)\n",
        "print(\"Correctly Classified examples: \", TP)\n",
        "print(\"Missclassified examples: \", len(predict_classes)-TP)\n",
        "print()\n",
        "print()\n",
        "print(\"     #####################################################\")\n",
        "print(\"                      Confusion Matrix\")\n",
        "print(\"     #####################################################\")\n",
        "print(\"Column Axis for Predicted Classes\")\n",
        "print(\"Row Axis for Actual Classes\")\n",
        "table = Texttable()\n",
        "table.set_deco(Texttable.HEADER)\n",
        "table.add_rows(confusion_matrix)\n",
        "print(table.draw())\n"
      ],
      "metadata": {
        "colab": {
          "base_uri": "https://localhost:8080/"
        },
        "id": "-Qu2hHZcTfhc",
        "outputId": "dc9cf4a4-63e4-4aca-b768-17b106eb87f1"
      },
      "execution_count": 28,
      "outputs": [
        {
          "output_type": "stream",
          "name": "stdout",
          "text": [
            "Accuracy:  86.0\n",
            "Correctly Classified examples:  172\n",
            "Missclassified examples:  28\n",
            "\n",
            "\n",
            "     #####################################################\n",
            "                      Confusion Matrix\n",
            "     #####################################################\n",
            "Column Axis for Predicted Classes\n",
            "Row Axis for Actual Classes\n",
            "0.0   1.0   2.0   3.0   4.0   5.0   6.0   7.0   8.0   9.0   10.0\n",
            "================================================================\n",
            "1     16    1     0     0     1     1     0     0     1     0   \n",
            "2     0     19    1     0     0     0     0     0     0     0   \n",
            "3     0     0     20    0     0     0     0     0     0     0   \n",
            "4     0     0     0     20    0     0     0     0     0     0   \n",
            "5     0     0     0     0     17    0     1     0     2     0   \n",
            "6     0     0     0     0     0     20    0     0     0     0   \n",
            "7     5     1     0     0     1     5     4     1     3     0   \n",
            "8     0     0     0     0     0     0     0     20    0     0   \n",
            "9     0     0     2     0     0     0     0     2     16    0   \n",
            "10    0     0     0     0     0     0     0     0     0     20  \n"
          ]
        }
      ]
    },
    {
      "cell_type": "markdown",
      "source": [
        "## Qualitative Results: Displaying Correctly Classified Images and Misclassified Images"
      ],
      "metadata": {
        "id": "qxKbp0X_fw8M"
      }
    },
    {
      "cell_type": "code",
      "source": [
        "print(\"####################################\")\n",
        "print(\"     Correctly Classified Images\")\n",
        "print(\"####################################\")\n",
        "for i in range(0,len(correctlyclass_images),40):\n",
        "  print(\"Test Image: \")\n",
        "  cv2_imshow(correctlyclass_images[i])\n",
        "  print(\"Test Label: \",correctlyclass_labels[i])\n",
        "  print(\"--------------------------------------\")\n",
        "print(\"####################################\")\n",
        "print(\"     Misclassified Images\")\n",
        "print(\"####################################\")\n",
        "for i in range(0,len(misclassified_images),4):\n",
        "  print(\"Test Image: \")\n",
        "  cv2_imshow(misclassified_images[i])\n",
        "  print(\"Predicted Label: \",misclassified_labels[i])\n",
        "  print(\"Actual Label: \",actual_labels[i])\n",
        "  print(\"--------------------------------------\")\n"
      ],
      "metadata": {
        "id": "dqhnySwMg-qN",
        "colab": {
          "base_uri": "https://localhost:8080/",
          "height": 1000
        },
        "outputId": "c1eb6082-0c46-4789-9803-03896ea988ba"
      },
      "execution_count": 32,
      "outputs": [
        {
          "output_type": "stream",
          "name": "stdout",
          "text": [
            "####################################\n",
            "     Correctly Classified Images\n",
            "####################################\n",
            "Test Image: \n"
          ]
        },
        {
          "output_type": "display_data",
          "data": {
            "image/png": "[encoded data removed]",
            "text/plain": [
              "<PIL.Image.Image image mode=L size=92x92 at 0x7EFF6FCF0AD0>"
            ]
          },
          "metadata": {}
        },
        {
          "output_type": "stream",
          "name": "stdout",
          "text": [
            "Test Label:  3\n",
            "--------------------------------------\n",
            "Test Image: \n"
          ]
        },
        {
          "output_type": "display_data",
          "data": {
            "image/png": "[encoded data removed]",
            "text/plain": [
              "<PIL.Image.Image image mode=L size=92x92 at 0x7EFF6FD16290>"
            ]
          },
          "metadata": {}
        },
        {
          "output_type": "stream",
          "name": "stdout",
          "text": [
            "Test Label:  1\n",
            "--------------------------------------\n",
            "Test Image: \n"
          ]
        },
        {
          "output_type": "display_data",
          "data": {
            "image/png": "[encoded data removed]",
            "text/plain": [
              "<PIL.Image.Image image mode=L size=92x92 at 0x7EFF6FDC4CD0>"
            ]
          },
          "metadata": {}
        },
        {
          "output_type": "stream",
          "name": "stdout",
          "text": [
            "Test Label:  5\n",
            "--------------------------------------\n",
            "Test Image: \n"
          ]
        },
        {
          "output_type": "display_data",
          "data": {
            "image/png": "[encoded data removed]",
            "text/plain": [
              "<PIL.Image.Image image mode=L size=92x92 at 0x7EFF69B62910>"
            ]
          },
          "metadata": {}
        },
        {
          "output_type": "stream",
          "name": "stdout",
          "text": [
            "Test Label:  6\n",
            "--------------------------------------\n",
            "Test Image: \n"
          ]
        },
        {
          "output_type": "display_data",
          "data": {
            "image/png": "[encoded data removed]",
            "text/plain": [
              "<PIL.Image.Image image mode=L size=92x92 at 0x7EFF69B62610>"
            ]
          },
          "metadata": {}
        },
        {
          "output_type": "stream",
          "name": "stdout",
          "text": [
            "Test Label:  9\n",
            "--------------------------------------\n",
            "####################################\n",
            "     Misclassified Images\n",
            "####################################\n",
            "Test Image: \n"
          ]
        },
        {
          "output_type": "display_data",
          "data": {
            "image/png": "[encoded data removed]",
            "text/plain": [
              "<PIL.Image.Image image mode=L size=92x92 at 0x7EFF69B62ED0>"
            ]
          },
          "metadata": {}
        },
        {
          "output_type": "stream",
          "name": "stdout",
          "text": [
            "Predicted Label:  3\n",
            "Actual Label:  2\n",
            "--------------------------------------\n",
            "Test Image: \n"
          ]
        },
        {
          "output_type": "display_data",
          "data": {
            "image/png": "[encoded data removed]",
            "text/plain": [
              "<PIL.Image.Image image mode=L size=92x92 at 0x7EFF69B62910>"
            ]
          },
          "metadata": {}
        },
        {
          "output_type": "stream",
          "name": "stdout",
          "text": [
            "Predicted Label:  6\n",
            "Actual Label:  1\n",
            "--------------------------------------\n",
            "Test Image: \n"
          ]
        },
        {
          "output_type": "display_data",
          "data": {
            "image/png": "[encoded data removed]",
            "text/plain": [
              "<PIL.Image.Image image mode=L size=92x92 at 0x7EFF69B62850>"
            ]
          },
          "metadata": {}
        },
        {
          "output_type": "stream",
          "name": "stdout",
          "text": [
            "Predicted Label:  1\n",
            "Actual Label:  7\n",
            "--------------------------------------\n",
            "Test Image: \n"
          ]
        },
        {
          "output_type": "display_data",
          "data": {
            "image/png": "[encoded data removed]",
            "text/plain": [
              "<PIL.Image.Image image mode=L size=92x92 at 0x7EFF69B62E50>"
            ]
          },
          "metadata": {}
        },
        {
          "output_type": "stream",
          "name": "stdout",
          "text": [
            "Predicted Label:  2\n",
            "Actual Label:  7\n",
            "--------------------------------------\n",
            "Test Image: \n"
          ]
        },
        {
          "output_type": "display_data",
          "data": {
            "image/png": "[encoded data removed]",
            "text/plain": [
              "<PIL.Image.Image image mode=L size=92x92 at 0x7EFF69B62850>"
            ]
          },
          "metadata": {}
        },
        {
          "output_type": "stream",
          "name": "stdout",
          "text": [
            "Predicted Label:  6\n",
            "Actual Label:  7\n",
            "--------------------------------------\n",
            "Test Image: \n"
          ]
        },
        {
          "output_type": "display_data",
          "data": {
            "image/png": "[encoded data removed]",
            "text/plain": [
              "<PIL.Image.Image image mode=L size=92x92 at 0x7EFF69B62250>"
            ]
          },
          "metadata": {}
        },
        {
          "output_type": "stream",
          "name": "stdout",
          "text": [
            "Predicted Label:  1\n",
            "Actual Label:  7\n",
            "--------------------------------------\n",
            "Test Image: \n"
          ]
        },
        {
          "output_type": "display_data",
          "data": {
            "image/png": "[encoded data removed]",
            "text/plain": [
              "<PIL.Image.Image image mode=L size=92x92 at 0x7EFF69B62350>"
            ]
          },
          "metadata": {}
        },
        {
          "output_type": "stream",
          "name": "stdout",
          "text": [
            "Predicted Label:  8\n",
            "Actual Label:  9\n",
            "--------------------------------------\n"
          ]
        }
      ]
    }
  ]
}